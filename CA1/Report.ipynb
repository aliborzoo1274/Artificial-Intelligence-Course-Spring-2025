{
 "cells": [
  {
   "cell_type": "markdown",
   "metadata": {},
   "source": [
    "# AI - CA1 (BFS, DFS, IDS, A*)\n",
    "## Ali Borzoozadeh - 810102410"
   ]
  },
  {
   "cell_type": "markdown",
   "metadata": {},
   "source": [
    "### Question 1:\n",
    "\n",
    "In defining a state, we can consider the player's position and the position of each box. Because these are the only variables in the game. A warehouse map at any given moment cannot be a good definition. Because it is not necessary to consider objects such as targets and walls because they are constant throughout the game."
   ]
  },
  {
   "cell_type": "markdown",
   "metadata": {},
   "source": [
    "### Question 2:\n",
    "\n",
    "Actions include moving the player up, down, right, or left, and whenever one of these moves is performed in a given state, we move to a new state."
   ]
  },
  {
   "cell_type": "markdown",
   "metadata": {},
   "source": [
    "### Question 3:\n",
    "\n",
    "We defined the action in the previous question. The goal state is when each box is in its place. This can be checked with a for loop and whenever this condition is met, the game ends. The definition of the initial state is the same as the player's position and the position of the boxes in the same initial map."
   ]
  },
  {
   "cell_type": "markdown",
   "metadata": {},
   "source": [
    "### Question 4:\n",
    "\n",
    "Each algorithm finds a solution to the problem according to its nature, advantages and disadvantages. In the following, we will learn about how they work and their advantages and disadvantages."
   ]
  },
  {
   "cell_type": "markdown",
   "metadata": {},
   "source": [
    "### Question 5:\n",
    "\n",
    "In BFS, we perform a shallow search, and this shallowness of the search consumes a lot of memory and even a lot of time. But the advantage is that we will find the closest goal. In the DFS algorithm, we go deep into the states, and the advantage can be that less memory is consumed and if we are lucky, the solution can be found in a faster time than BFS. But there is no guarantee that the best solution will be found, and this is one of its disadvantages. In the IDS algorithm, we somehow combine BFS and DFS and run DFS to a certain depth at each step. In fact, we are running DFS shallowly! This saves memory and still gives us the most optimal solution. The A* algorithm is a little different from other algorithms. This algorithm also takes into account an estimate of how close we are to the goal, which makes us go through fewer states and not go towards things that take us away from the goal. Also, this algorithm can find the most optimal path if the appropriate heuristic is chosen."
   ]
  },
  {
   "cell_type": "markdown",
   "metadata": {},
   "source": [
    "### Question 6:\n",
    "\n",
    "The algorithms are implemented and run in the notebook file. We will compare their performance later."
   ]
  },
  {
   "cell_type": "markdown",
   "metadata": {},
   "source": [
    "### Question 7:\n",
    "\n",
    "In the definition of the heuristic, we did this: we add the Manhattan distance of each box to its target with the Manhattan distance of the player to the nearest box that has not entered its target. It is important that the box has not entered its target because a box that has entered its target is actually out of the game. If we consider this raw value as a heuristic, it may not be addmisible. Because in some cases, the best move is not that the box closest to the player should now enter its target. In general, the addmisibility of this heuristic can be discussed, but because it can be a good estimator in many cases, we chose it and what we did was to multiply this heuristic value by an appropriate value between zero and one to make it addmisible with a good percentage. We obtained this value by testing 0.47. In fact, this coefficient is the highest possible coefficient for this heuristic to be addmisible. By doing this, we obtain the optimal solution to the problem in the fastest time."
   ]
  },
  {
   "cell_type": "markdown",
   "metadata": {},
   "source": [
    "### Question 8:\n",
    "\n",
    "This heuristic is actually an optimized version of the raw Manhattan distance and will give us a better answer."
   ]
  },
  {
   "cell_type": "markdown",
   "metadata": {},
   "source": [
    "### Question 9:\n",
    "\n",
    "- The weight of Weighted A* is 6\n",
    "\n",
    "#### Map 1:\n",
    "\n",
    "| Algorithm  | Number of Visited States | Solution (Algorithm Output) | Execution Time |\n",
    "|-----------|--------------------------|----------------------------|---------------|\n",
    "| BFS       |47                          |['U', 'D', 'D', 'U', 'L', 'R', 'R']                            |0.0               |\n",
    "| DFS       |17                          |['U', 'D', 'D', 'U', 'L', 'R', 'R']                            |0.0               |\n",
    "| IDS       |17                          |['U', 'D', 'D', 'U', 'L', 'R', 'R']                            |0.0               |\n",
    "| A*        |47                          |['U', 'D', 'D', 'U', 'L', 'R', 'R']                            |0.0               |\n",
    "| Weighted A* |17                        |['U', 'D', 'D', 'U', 'L', 'R', 'R']                            |0.0               |\n",
    "\n",
    "\n",
    "#### Map 2:\n",
    "\n",
    "| Algorithm  | Number of Visited States | Solution (Algorithm Output) | Execution Time |\n",
    "|-----------|--------------------------|----------------------------|---------------|\n",
    "| BFS       |26                          |['L', 'U', 'D', 'D', 'U', 'L']                           |0.0               |\n",
    "| DFS       |13                          |['L', 'U', 'D', 'D', 'U', 'L']                           |0.0               |\n",
    "| IDS       |13                          |['L', 'U', 'D', 'D', 'U', 'L']                           |0.0               |\n",
    "| A*        |26                          |['L', 'U', 'D', 'D', 'U', 'L']                           |0.0               |\n",
    "| Weighted A* |13                        |['L', 'U', 'D', 'D', 'U', 'L']                           |0.0               |\n",
    "\n",
    "\n",
    "#### Map 3:\n",
    "\n",
    "| Algorithm  | Number of Visited States | Solution (Algorithm Output) | Execution Time |\n",
    "|-----------|--------------------------|----------------------------|---------------|\n",
    "| BFS       |130                          |['U', 'L', 'D', 'D', 'U', 'U', 'U', 'U', 'R', 'D', 'D', 'D', 'D']                           |0.0               |\n",
    "| DFS       |72                          |['U', 'L', 'U', 'U', 'R', 'D', 'D', 'D', 'U', 'L', 'D', 'U', 'R', 'D', 'D', 'U', 'U', 'L', 'D', 'D']                           |0.0               |\n",
    "| IDS       |73                          |['U', 'L', 'U', 'U', 'R', 'D', 'D', 'D', 'D', 'U', 'U', 'L', 'D', 'D']                           |0.02               |\n",
    "| A*        |111                          |['U', 'L', 'D', 'D', 'U', 'U', 'U', 'U', 'R', 'D', 'D', 'D', 'D']                           |0.0               |\n",
    "| Weighted A* |47                        |['U', 'L', 'D', 'U', 'U', 'U', 'R', 'D', 'D', 'D', 'U', 'L', 'D', 'D', 'U', 'U', 'R', 'D', 'D']                           |0.0               |\n",
    "\n",
    "\n",
    "#### Map 4:\n",
    "\n",
    "| Algorithm  | Number of Visited States | Solution (Algorithm Output) | Execution Time |\n",
    "|-----------|--------------------------|----------------------------|---------------|\n",
    "| BFS       |2                          |No Solution Found!                           |0.0               |\n",
    "| DFS       |2                          |No Solution Found!                           |0.0               |\n",
    "| IDS       |2                          |No Solution Found!                           |0.0               |\n",
    "| A*        |2                          |No Solution Found!                           |0.0               |\n",
    "| Weighted A* |2                        |No Solution Found!                           |0.0               |\n",
    "\n",
    "\n",
    "#### Map 5:\n",
    "\n",
    "| Algorithm  | Number of Visited States | Solution (Algorithm Output) | Execution Time |\n",
    "|-----------|--------------------------|----------------------------|---------------|\n",
    "| BFS       |7896                          |['U', 'L', 'D', 'D', 'R', 'D', 'L', 'L', 'L', 'U', 'U', 'U', 'R', 'U', 'L']                           |0.17               |\n",
    "| DFS       |4165                          |['U', 'U', 'L', 'L', 'D', 'D', 'D', 'D', 'L', 'L', 'U', 'U', 'R', 'U', 'U', 'R', 'R', 'D', 'D', 'U', 'U', 'L', 'L', 'D', 'D', 'D', 'D', 'R', 'R', 'U', 'U', 'D', 'D', 'L', 'L', 'U', 'U', 'U', 'U', 'R', 'R', 'R', 'D', 'L', 'U', 'L', 'L', 'D', 'D', 'R', 'D', 'D', 'L', 'L', 'U', 'U', 'U', 'U', 'R', 'R', 'D', 'U', 'L', 'L', 'D', 'D', 'D', 'D', 'R', 'R', 'U', 'R', 'U', 'U', 'D', 'D', 'D', 'L', 'L', 'U', 'U', 'R', 'U', 'U', 'L', 'L', 'D', 'D', 'D', 'D', 'R', 'R', 'R', 'U', 'U', 'R', 'U', 'U', 'L', 'D', 'U', 'L', 'D', 'D', 'D', 'D', 'L', 'L', 'U', 'U', 'U', 'U', 'R', 'D', 'D', 'D', 'D', 'R', 'R', 'U', 'U', 'R', 'U', 'L', 'U', 'L', 'D', 'U', 'L', 'D', 'D', 'D', 'D', 'R', 'R', 'U', 'U', 'L', 'U', 'U', 'R', 'R', 'D', 'D', 'D', 'D', 'L', 'L', 'L', 'U', 'U', 'L', 'U', 'R', 'R', 'U', 'R', 'D', 'D', 'U', 'U', 'L', 'L', 'D', 'D', 'D', 'D', 'R', 'R', 'R', 'U', 'L', 'U', 'L', 'D', 'U', 'U', 'U', 'R', 'R', 'D', 'D', 'D', 'D', 'L', 'L', 'L']                           |0.08               |\n",
    "| IDS       |1355                          |['U', 'L', 'D', 'D', 'R', 'D', 'L', 'L', 'L', 'U', 'U', 'U', 'R', 'U', 'L']                           |0.14               |\n",
    "| A*        |2614                          |['L', 'U', 'L', 'D', 'D', 'R', 'D', 'L', 'L', 'U', 'U', 'U', 'R', 'U', 'L']                           |0.06               |\n",
    "| Weighted A* |138                        |['L', 'U', 'L', 'D', 'L', 'R', 'D', 'R', 'D', 'L', 'L', 'U', 'L', 'U', 'U']                           |0.0               |\n",
    "\n",
    "\n",
    "#### Map 6:\n",
    "\n",
    "| Algorithm  | Number of Visited States | Solution (Algorithm Output) | Execution Time |\n",
    "|-----------|--------------------------|----------------------------|---------------|\n",
    "| BFS       |21150                          |['U', 'U', 'U', 'U', 'U', 'R', 'R', 'R', 'L', 'L', 'L', 'L', 'L', 'L', 'L', 'D', 'D', 'D', 'D', 'D', 'D', 'D', 'D', 'D', 'R', 'D', 'L', 'R', 'R', 'R', 'R', 'R', 'R', 'R']                           |0.42               |\n",
    "| DFS       |334                          |['U', 'U', 'U', 'U', 'U', 'L', 'L', 'D', 'D', 'D', 'D', 'D', 'D', 'D', 'D', 'D', 'D', 'L', 'L', 'U', 'U', 'U', 'U', 'U', 'U', 'U', 'U', 'U', 'L', 'U', 'R', 'D', 'D', 'D', 'D', 'D', 'D', 'D', 'D', 'D', 'D', 'R', 'R', 'U', 'U', 'U', 'U', 'U', 'U', 'U', 'U', 'U', 'U', 'L', 'L', 'D', 'D', 'D', 'D', 'D', 'D', 'D', 'D', 'D', 'D', 'R', 'R', 'U', 'U', 'U', 'U', 'U', 'U', 'U', 'U', 'U', 'U', 'R', 'R', 'D', 'D', 'D', 'D', 'D', 'D', 'D', 'D', 'D', 'D', 'R', 'R', 'U', 'U', 'U', 'U', 'U', 'U', 'U', 'U', 'U', 'U', 'R', 'D', 'D', 'D', 'D', 'D', 'D', 'D', 'D', 'D', 'L', 'D', 'R']                           |0.0               |\n",
    "| IDS       |15332                          |['U', 'U', 'U', 'U', 'U', 'L', 'L', 'L', 'L', 'D', 'D', 'D', 'D', 'D', 'D', 'D', 'D', 'D', 'R', 'D', 'L', 'U', 'U', 'U', 'U', 'U', 'R', 'U', 'R', 'U', 'R', 'U', 'R', 'U', 'U', 'R', 'R', 'R', 'D', 'D', 'D', 'D', 'D', 'D', 'D', 'D', 'D', 'L', 'D', 'R']                           |4.43               |\n",
    "| A*        |9739                          |['U', 'U', 'U', 'U', 'U', 'R', 'R', 'R', 'L', 'L', 'L', 'L', 'L', 'L', 'L', 'D', 'D', 'D', 'D', 'D', 'D', 'D', 'D', 'D', 'R', 'D', 'L', 'R', 'R', 'R', 'R', 'R', 'R', 'R']                           |0.44               |\n",
    "| Weighted A* |3274                        |['U', 'U', 'U', 'U', 'U', 'R', 'R', 'R', 'L', 'L', 'L', 'L', 'L', 'L', 'L', 'D', 'D', 'D', 'D', 'D', 'D', 'D', 'D', 'D', 'R', 'D', 'L', 'R', 'R', 'R', 'R', 'R', 'R', 'R']                           |0.12               |\n",
    "\n",
    "\n",
    "#### Map 7:\n",
    "\n",
    "| Algorithm  | Number of Visited States | Solution (Algorithm Output) | Execution Time |\n",
    "|-----------|--------------------------|----------------------------|---------------|\n",
    "| BFS       |815887                          |['R', 'U', 'R', 'R', 'D', 'D', 'D', 'D', 'L', 'D', 'R', 'U', 'U', 'U', 'U', 'L', 'L', 'L', 'R', 'D', 'R', 'D', 'R', 'D', 'D', 'L', 'L', 'D', 'L', 'L', 'U', 'U', 'D', 'R']                           |19.47               |\n",
    "| DFS       |-                          |-                           |Time-consuming!               |\n",
    "| IDS       |-                          |-                           |Time-consuming!               |\n",
    "| A*        |179699                          |['R', 'U', 'R', 'R', 'D', 'D', 'D', 'D', 'L', 'D', 'R', 'U', 'U', 'U', 'U', 'L', 'L', 'L', 'R', 'D', 'R', 'D', 'R', 'D', 'D', 'L', 'L', 'D', 'L', 'L', 'U', 'U', 'D', 'R']                           |6.36               |\n",
    "| Weighted A* |8674                        |['R', 'U', 'R', 'R', 'D', 'D', 'D', 'D', 'L', 'D', 'R', 'U', 'U', 'U', 'U', 'L', 'L', 'L', 'R', 'D', 'R', 'D', 'R', 'D', 'D', 'L', 'L', 'D', 'L', 'L', 'U', 'U', 'D', 'R']                           |0.25               |\n",
    "\n",
    "\n",
    "#### Map 8:\n",
    "\n",
    "| Algorithm  | Number of Visited States | Solution (Algorithm Output) | Execution Time |\n",
    "|-----------|--------------------------|----------------------------|---------------|\n",
    "| BFS       |10571                          |['U', 'U', 'R', 'D', 'L', 'D', 'R', 'R', 'D', 'R', 'U', 'R', 'D', 'R']                           |0.21               |\n",
    "| DFS       |63298                          |Too long! 3960 moves!                           |2.07               |\n",
    "| IDS       |4200                          |['U', 'R', 'U', 'R', 'D', 'D', 'L', 'D', 'R', 'R', 'R', 'R', 'U', 'R', 'D', 'D', 'R']                           |0.48               |\n",
    "| A*        |2073                          |['U', 'U', 'R', 'D', 'L', 'D', 'R', 'R', 'D', 'R', 'U', 'R', 'D', 'R']                           |0.04               |\n",
    "| Weighted A* |71                        |['U', 'R', 'R', 'R', 'R', 'R', 'R', 'R', 'R', 'R', 'R', 'R', 'R', 'R', 'U', 'R', 'D', 'D', 'R']                           |0.0               |\n",
    "\n",
    "\n",
    "#### Map 9:\n",
    "\n",
    "| Algorithm  | Number of Visited States | Solution (Algorithm Output) | Execution Time |\n",
    "|-----------|--------------------------|----------------------------|---------------|\n",
    "| BFS       |-                          |-                           |Time-consuming!               |\n",
    "| DFS       |-                          |-                           |Time-consuming!               |\n",
    "| IDS       |-                          |-                           |Time-consuming!               |\n",
    "| A*        |-                          |-                           |Time-consuming!               |\n",
    "| Weighted A* |970754                        |['R', 'U', 'R', 'R', 'R', 'L', 'D', 'D', 'L', 'U', 'L', 'U', 'R', 'R', 'U', 'R', 'D', 'R', 'D', 'R', 'D', 'L', 'D', 'L', 'U', 'R', 'U', 'U', 'U', 'R', 'D', 'R', 'D', 'L', 'L', 'U', 'U', 'L', 'L', 'U', 'U', 'U', 'L', 'L', 'L', 'U', 'R', 'R', 'U', 'R', 'D', 'D', 'D', 'D', 'D', 'D', 'L', 'D', 'R']                           |42.97               |\n",
    "\n",
    "\n",
    "#### Map 10:\n",
    "\n",
    "| Algorithm  | Number of Visited States | Solution (Algorithm Output) | Execution Time |\n",
    "|-----------|--------------------------|----------------------------|---------------|\n",
    "| BFS       |255660                          |['R', 'R', 'R', 'R', 'R', 'D', 'R', 'U', 'L', 'U', 'R', 'U', 'L', 'L', 'L', 'U', 'L', 'D', 'R', 'U', 'U', 'U', 'L', 'D', 'R', 'D', 'L', 'D', 'R', 'R', 'D', 'R', 'U', 'L', 'U', 'R', 'U', 'R', 'D', 'D', 'R', 'D', 'L', 'L', 'L', 'L']                           |6.11               |\n",
    "| DFS       |447639                          |Too long! 5663 moves!                           |17.34               |\n",
    "| IDS       |-                          |-                           |Time-consuming!               |\n",
    "| A*        |135020                          |['R', 'R', 'R', 'R', 'R', 'D', 'R', 'U', 'L', 'U', 'R', 'U', 'L', 'L', 'L', 'U', 'L', 'D', 'R', 'U', 'U', 'U', 'L', 'D', 'R', 'D', 'L', 'D', 'R', 'R', 'D', 'R', 'U', 'L', 'U', 'R', 'U', 'R', 'D', 'D', 'R', 'D', 'L', 'L', 'L', 'L']                           |4.03               |\n",
    "| Weighted A* |47172                        |['R', 'R', 'R', 'R', 'R', 'D', 'R', 'U', 'L', 'U', 'R', 'U', 'L', 'L', 'L', 'U', 'L', 'D', 'L', 'U', 'D', 'R', 'R', 'U', 'U', 'U', 'L', 'D', 'R', 'D', 'L', 'D', 'R', 'R', 'D', 'R', 'U', 'L', 'U', 'R', 'U', 'R', 'D', 'D', 'R', 'D', 'L', 'L', 'L', 'L', 'U', 'R', 'R', 'R', 'U', 'L', 'L', 'L', 'D', 'R', 'R', 'U', 'U', 'L', 'U', 'L', 'D']                           |1.57               |"
   ]
  }
 ],
 "metadata": {
  "kernelspec": {
   "display_name": "Python 3",
   "language": "python",
   "name": "python3"
  },
  "language_info": {
   "codemirror_mode": {
    "name": "ipython",
    "version": 3
   },
   "file_extension": ".py",
   "mimetype": "text/x-python",
   "name": "python",
   "nbconvert_exporter": "python",
   "pygments_lexer": "ipython3",
   "version": "3.13.2"
  }
 },
 "nbformat": 4,
 "nbformat_minor": 2
}
