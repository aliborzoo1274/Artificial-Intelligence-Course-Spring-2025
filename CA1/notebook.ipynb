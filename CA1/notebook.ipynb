{
 "cells": [
  {
   "cell_type": "code",
   "execution_count": 1,
   "metadata": {},
   "outputs": [],
   "source": [
    "from game import Game\n",
    "import time\n",
    "import os\n",
    "import re"
   ]
  },
  {
   "cell_type": "markdown",
   "metadata": {},
   "source": [
    "## Load maps"
   ]
  },
  {
   "cell_type": "code",
   "execution_count": 2,
   "metadata": {},
   "outputs": [],
   "source": [
    "def extract_map_files(directory):\n",
    "    pattern = re.compile(r'^map(\\d+)\\.txt$')\n",
    "    map_file_indices = []\n",
    "\n",
    "    for file_name in os.listdir(directory):\n",
    "        match = pattern.match(file_name)\n",
    "        if match:\n",
    "            map_file_indices.append(match.group(1))\n",
    "\n",
    "    return [int(idx) for idx in map_file_indices]\n",
    "\n",
    "def is_valid_input(map, indices, algorithm, solvers):\n",
    "    valid_input = True\n",
    "    if map not in indices:\n",
    "        print(f\"Map index out of range. Please choose within range {min(indices)} to {max(indices)}\")\n",
    "        valid_input = False\n",
    "    if algorithm not in solvers.keys():    \n",
    "        print(f\"{algorithm} is not a defined algorithm. Please choose from\", *[f\"{solver} ({i+1})  \" for i, solver in enumerate(solvers.keys())])\n",
    "        valid_input = False\n",
    "    return valid_input\n",
    "\n",
    "def load_map(map_index):  \n",
    "    file_name = \"map\" + str(map_index) + \".txt\"\n",
    "    with open('./assets/maps/' + file_name) as f:\n",
    "        game_map = f.read()\n",
    "    return game_map\n",
    "\n",
    "map_file_indices = extract_map_files(\"./assets/maps/\")"
   ]
  },
  {
   "cell_type": "markdown",
   "metadata": {},
   "source": [
    "## Tutorial"
   ]
  },
  {
   "cell_type": "code",
   "execution_count": 3,
   "metadata": {},
   "outputs": [
    {
     "name": "stdout",
     "output_type": "stream",
     "text": [
      "This is an example of the game map:\n",
      "W\tP1\tH\tW\tW\tW\tW\n",
      "W\tW\tW\tG1\tW\tW\tW\n",
      "W\tW\tW\tB1\tW\tW\tW\n",
      "W\tG2\tB2\t.\tP1\tW\tW\n",
      "W\tW\tW\tB3\tW\tW\tW\n",
      "W\tW\tW\tG3\tW\tW\tW\n",
      "W\tW\tW\tW\tW\tW\tW\n"
     ]
    }
   ],
   "source": [
    "print(\"This is an example of the game map:\")\n",
    "map = load_map(2)\n",
    "game = Game(map)\n",
    "game.display_map()"
   ]
  },
  {
   "cell_type": "code",
   "execution_count": 4,
   "metadata": {},
   "outputs": [
    {
     "data": {
      "text/plain": [
       "[(2, 3), (3, 2), (4, 3)]"
      ]
     },
     "execution_count": 4,
     "metadata": {},
     "output_type": "execute_result"
    }
   ],
   "source": [
    "game.get_box_locations()"
   ]
  },
  {
   "cell_type": "code",
   "execution_count": 5,
   "metadata": {},
   "outputs": [
    {
     "data": {
      "text/plain": [
       "[(1, 3), (3, 1), (5, 3)]"
      ]
     },
     "execution_count": 5,
     "metadata": {},
     "output_type": "execute_result"
    }
   ],
   "source": [
    "game.get_goal_locations()"
   ]
  },
  {
   "cell_type": "code",
   "execution_count": 6,
   "metadata": {},
   "outputs": [
    {
     "data": {
      "text/plain": [
       "(0, 2)"
      ]
     },
     "execution_count": 6,
     "metadata": {},
     "output_type": "execute_result"
    }
   ],
   "source": [
    "game.get_player_position()"
   ]
  },
  {
   "cell_type": "markdown",
   "metadata": {},
   "source": [
    "- W : Wall\n",
    "- H : Human\n",
    "- B : Box\n",
    "- P : Portal\n",
    "- G : Goal"
   ]
  },
  {
   "cell_type": "code",
   "execution_count": 7,
   "metadata": {},
   "outputs": [
    {
     "name": "stdout",
     "output_type": "stream",
     "text": [
      "Move U is valid: False\n",
      "Move D is valid: False\n",
      "Move R is valid: False\n",
      "Move L is valid: True\n",
      "W\tP1\t.\tW\tW\tW\tW\n",
      "W\tW\tW\tG1\tW\tW\tW\n",
      "W\tW\tW\tB1\tW\tW\tW\n",
      "W\tG2\tB2\tH\tP1\tW\tW\n",
      "W\tW\tW\tB3\tW\tW\tW\n",
      "W\tW\tW\tG3\tW\tW\tW\n",
      "W\tW\tW\tW\tW\tW\tW\n"
     ]
    }
   ],
   "source": [
    "for direction in ['U', 'D', 'R', 'L']:\n",
    "    result = game.apply_move(direction)\n",
    "    print(f\"Move {direction} is valid: {result}\")\n",
    "    if result:\n",
    "        game.display_map()"
   ]
  },
  {
   "cell_type": "code",
   "execution_count": 8,
   "metadata": {},
   "outputs": [
    {
     "name": "stdout",
     "output_type": "stream",
     "text": [
      "W\tP1\t.\tW\tW\tW\tW\n",
      "W\tW\tW\tG1/B1\tW\tW\tW\n",
      "W\tW\tW\tH\tW\tW\tW\n",
      "W\tG2\tB2\t.\tP1\tW\tW\n",
      "W\tW\tW\tB3\tW\tW\tW\n",
      "W\tW\tW\tG3\tW\tW\tW\n",
      "W\tW\tW\tW\tW\tW\tW\n"
     ]
    }
   ],
   "source": [
    "game.apply_move('U')\n",
    "game.display_map()"
   ]
  },
  {
   "cell_type": "code",
   "execution_count": 9,
   "metadata": {},
   "outputs": [
    {
     "name": "stdout",
     "output_type": "stream",
     "text": [
      "W\tP1\t.\tW\tW\tW\tW\n",
      "W\tW\tW\tG1/B1\tW\tW\tW\n",
      "W\tW\tW\t.\tW\tW\tW\n",
      "W\tG2/B2\t.\t.\tP1\tW\tW\n",
      "W\tW\tW\tH\tW\tW\tW\n",
      "W\tW\tW\tG3/B3\tW\tW\tW\n",
      "W\tW\tW\tW\tW\tW\tW\n",
      "Is game won? True\n"
     ]
    }
   ],
   "source": [
    "game.apply_moves(['D', 'L', 'R', 'D']) \n",
    "game.display_map()\n",
    "print(\"Is game won?\", game.is_game_won())"
   ]
  },
  {
   "cell_type": "markdown",
   "metadata": {},
   "source": [
    "## Solvers"
   ]
  },
  {
   "cell_type": "markdown",
   "metadata": {},
   "source": [
    "### BFS"
   ]
  },
  {
   "cell_type": "code",
   "execution_count": 10,
   "metadata": {},
   "outputs": [],
   "source": [
    "# TODO: Must return moves (if there is no solution return None), number of visited states\n",
    "from collections import deque\n",
    "def solver_bfs(game_map):\n",
    "    game = Game(game_map)\n",
    "    goal_locations = game.get_goal_locations()\n",
    "    initial_state = (game.get_player_position(), tuple(game.get_box_locations()))\n",
    "    fringe = deque([(initial_state, [])])\n",
    "    explored = set()\n",
    "    explored.add(initial_state)\n",
    "    \n",
    "    while fringe:\n",
    "        (player_pos, box_positions), path = fringe.popleft()\n",
    "        \n",
    "        if all(box_positions[i] == goal_locations[i] for i in range(len(box_positions))):\n",
    "            return path, len(explored)\n",
    "        \n",
    "        for direction in ['U', 'D', 'L', 'R']:\n",
    "            game.set_player_position(player_pos)\n",
    "            game.set_box_positions(box_positions)\n",
    "            \n",
    "            if game.apply_move(direction):\n",
    "                new_state = (game.get_player_position(), tuple(game.get_box_locations()))\n",
    "                if new_state not in explored:\n",
    "                    explored.add(new_state)\n",
    "                    fringe.append((new_state, path + [direction]))\n",
    "    \n",
    "    return None, len(explored)"
   ]
  },
  {
   "cell_type": "markdown",
   "metadata": {},
   "source": [
    "### DFS"
   ]
  },
  {
   "cell_type": "code",
   "execution_count": 11,
   "metadata": {},
   "outputs": [],
   "source": [
    "# TODO: Must return moves, number of visited states\n",
    "def solver_dfs(game_map):\n",
    "    game = Game(game_map)\n",
    "    goal_locations = game.get_goal_locations()\n",
    "    initial_state = (game.get_player_position(), tuple(game.get_box_locations()))\n",
    "    fringe = [(initial_state, [])]\n",
    "    explored = set()\n",
    "    explored.add(initial_state)\n",
    "    \n",
    "    while fringe:\n",
    "        (player_pos, box_positions), path = fringe.pop()\n",
    "        \n",
    "        if all(box_positions[i] == goal_locations[i] for i in range(len(box_positions))):\n",
    "            return path, len(explored)\n",
    "        \n",
    "        for direction in ['R', 'L', 'D', 'U']:\n",
    "            game.set_player_position(player_pos)\n",
    "            game.set_box_positions(box_positions)\n",
    "            \n",
    "            if game.apply_move(direction):\n",
    "                new_state = (game.get_player_position(), tuple(game.get_box_locations()))\n",
    "                if new_state not in explored:\n",
    "                    explored.add(new_state)\n",
    "                    fringe.append((new_state, path + [direction]))\n",
    "    \n",
    "    return None, len(explored)"
   ]
  },
  {
   "cell_type": "markdown",
   "metadata": {},
   "source": [
    "### IDS"
   ]
  },
  {
   "cell_type": "code",
   "execution_count": 12,
   "metadata": {},
   "outputs": [],
   "source": [
    "# TODO: Must return moves, number of visited states\n",
    "def solver_ids(game_map):\n",
    "    game = Game(game_map)\n",
    "    initial_state = (game.get_player_position(), tuple(game.get_box_locations()))\n",
    "    goal_locations = game.get_goal_locations()\n",
    "\n",
    "    for depth_limit in range(1, 1000):\n",
    "        fringe = [(initial_state, [], 0)]\n",
    "        explored = set([initial_state])\n",
    "\n",
    "        while fringe:\n",
    "            (player_pos, box_positions), path, depth = fringe.pop()\n",
    "\n",
    "            if all(box_positions[i] == goal_locations[i] for i in range(len(box_positions))):\n",
    "                return path, len(explored)\n",
    "\n",
    "            if depth < depth_limit:\n",
    "                for direction in ['R', 'L', 'D', 'U']:\n",
    "                    game.set_player_position(player_pos)\n",
    "                    game.set_box_positions(box_positions)\n",
    "\n",
    "                    if game.apply_move(direction):\n",
    "                        new_state = (game.get_player_position(), tuple(game.get_box_locations()))\n",
    "                        if new_state not in explored:\n",
    "                            explored.add(new_state)\n",
    "                            fringe.append((new_state, path + [direction], depth + 1))\n",
    "\n",
    "    return None, len(explored)"
   ]
  },
  {
   "cell_type": "markdown",
   "metadata": {},
   "source": [
    "### A*"
   ]
  },
  {
   "cell_type": "code",
   "execution_count": 13,
   "metadata": {},
   "outputs": [],
   "source": [
    "# TODO\n",
    "def heuristic(player_pos, box_positions, goal_positions):\n",
    "    total_distance = 0\n",
    "    min_player_box_distance = float('inf')\n",
    "    for i in range(len(box_positions)):\n",
    "        box = box_positions[i]\n",
    "        goal = goal_positions[i]\n",
    "        box_goal_distance = abs(box[0] - goal[0]) + abs(box[1] - goal[1])\n",
    "        total_distance += box_goal_distance\n",
    "        \n",
    "        if box != goal:\n",
    "            player_box_distance = abs(player_pos[0] - box[0]) + abs(player_pos[1] - box[1])\n",
    "            min_player_box_distance = min(min_player_box_distance, player_box_distance)\n",
    "    \n",
    "    if min_player_box_distance == float('inf'):\n",
    "        min_player_box_distance = 0\n",
    "    \n",
    "    total_distance += min_player_box_distance\n",
    "    return total_distance * 0.47 # 0.47 is for addmissivlity of the heuristic\n",
    "\n",
    "# TODO: Must return moves, number of explored states\n",
    "import heapq\n",
    "def solver_astar(game_map, weight=1):\n",
    "    game = Game(game_map)\n",
    "    initial_player_pos = game.get_player_position()\n",
    "    initial_box_positions = tuple(game.get_box_locations())\n",
    "    goal_positions = game.get_goal_locations()\n",
    "    \n",
    "    initial_state = (initial_player_pos, initial_box_positions)\n",
    "    initial_h = heuristic(initial_player_pos, initial_box_positions, goal_positions)\n",
    "    \n",
    "    counter = 0\n",
    "    fringe = [(initial_h, counter, 0, initial_state, [])]\n",
    "    # state -> g-value\n",
    "    explored = {initial_state: 0}\n",
    "    \n",
    "    while fringe:\n",
    "        _, _, g_value, (player_pos, box_positions), path = heapq.heappop(fringe)\n",
    "        \n",
    "        if all(box_positions[i] == goal_positions[i] for i in range(len(box_positions))):\n",
    "            return path, len(explored)\n",
    "        \n",
    "        for direction in ['U', 'D', 'L', 'R']:\n",
    "            game.set_player_position(player_pos)\n",
    "            game.set_box_positions(box_positions)\n",
    "            \n",
    "            if game.apply_move(direction):\n",
    "                new_player_pos = game.get_player_position()\n",
    "                new_box_positions = tuple(game.get_box_locations())\n",
    "                new_state = (new_player_pos, new_box_positions)\n",
    "                new_g = g_value + 1\n",
    "                \n",
    "                if new_state not in explored or new_g < explored[new_state]:\n",
    "                    explored[new_state] = new_g\n",
    "                    \n",
    "                    h_value = heuristic(new_player_pos, new_box_positions, goal_positions)\n",
    "                    f_value = new_g + weight * h_value\n",
    "                    \n",
    "                    counter += 1\n",
    "                    heapq.heappush(fringe, (f_value, counter, new_g, new_state, path + [direction]))\n",
    "    \n",
    "    return None, len(explored)"
   ]
  },
  {
   "cell_type": "markdown",
   "metadata": {},
   "source": [
    "## Solve"
   ]
  },
  {
   "cell_type": "code",
   "execution_count": 14,
   "metadata": {},
   "outputs": [],
   "source": [
    "SOLVERS = {\n",
    "    \"BFS\": solver_bfs,\n",
    "    \"DFS\": solver_dfs,\n",
    "    \"IDS\": solver_ids,\n",
    "    \"A*\": solver_astar,\n",
    "    \"Weighted A*\": lambda game_map: solver_astar(game_map, 6)\n",
    "}"
   ]
  },
  {
   "cell_type": "code",
   "execution_count": 15,
   "metadata": {},
   "outputs": [],
   "source": [
    "def solve(map, method):  \n",
    "    \n",
    "    if not is_valid_input(map, map_file_indices, method, SOLVERS):\n",
    "        return\n",
    "    \n",
    "    file_name = \"map\" + str(map) + \".txt\"\n",
    "    with open('./assets/maps/' + file_name) as f:\n",
    "        game_map = f.read()\n",
    "    \n",
    "    start_time = time.time()\n",
    "    moves, numof_visited_states = SOLVERS[method](game_map)\n",
    "    end_time = time.time()\n",
    "    print(f\"{method} took {round(end_time - start_time, 2)} seconds on map {map} and visited {numof_visited_states} states.\")\n",
    "    \n",
    "    if moves is None:\n",
    "        print(\"No Solution Found!\")\n",
    "    else:\n",
    "        print(f\"{len(moves)} moves were used: {moves}\")"
   ]
  },
  {
   "cell_type": "code",
   "execution_count": 16,
   "metadata": {},
   "outputs": [],
   "source": [
    "def solve_all(map):\n",
    "    for method in SOLVERS.keys():\n",
    "        solve(map, method)"
   ]
  },
  {
   "cell_type": "markdown",
   "metadata": {},
   "source": [
    "#### Map 1:"
   ]
  },
  {
   "cell_type": "code",
   "execution_count": 17,
   "metadata": {},
   "outputs": [
    {
     "name": "stdout",
     "output_type": "stream",
     "text": [
      "BFS took 0.0 seconds on map 1 and visited 47 states.\n",
      "7 moves were used: ['U', 'D', 'D', 'U', 'L', 'R', 'R']\n",
      "DFS took 0.0 seconds on map 1 and visited 17 states.\n",
      "7 moves were used: ['U', 'D', 'D', 'U', 'L', 'R', 'R']\n",
      "IDS took 0.0 seconds on map 1 and visited 17 states.\n",
      "7 moves were used: ['U', 'D', 'D', 'U', 'L', 'R', 'R']\n",
      "A* took 0.0 seconds on map 1 and visited 47 states.\n",
      "7 moves were used: ['U', 'D', 'D', 'U', 'L', 'R', 'R']\n",
      "Weighted A* took 0.0 seconds on map 1 and visited 17 states.\n",
      "7 moves were used: ['U', 'D', 'D', 'U', 'L', 'R', 'R']\n"
     ]
    }
   ],
   "source": [
    "solve_all(1)"
   ]
  },
  {
   "cell_type": "markdown",
   "metadata": {},
   "source": [
    "#### Map 2:"
   ]
  },
  {
   "cell_type": "code",
   "execution_count": 18,
   "metadata": {},
   "outputs": [
    {
     "name": "stdout",
     "output_type": "stream",
     "text": [
      "BFS took 0.0 seconds on map 2 and visited 26 states.\n",
      "6 moves were used: ['L', 'U', 'D', 'D', 'U', 'L']\n",
      "DFS took 0.0 seconds on map 2 and visited 13 states.\n",
      "6 moves were used: ['L', 'U', 'D', 'D', 'U', 'L']\n",
      "IDS took 0.0 seconds on map 2 and visited 13 states.\n",
      "6 moves were used: ['L', 'U', 'D', 'D', 'U', 'L']\n",
      "A* took 0.0 seconds on map 2 and visited 26 states.\n",
      "6 moves were used: ['L', 'U', 'D', 'D', 'U', 'L']\n",
      "Weighted A* took 0.0 seconds on map 2 and visited 13 states.\n",
      "6 moves were used: ['L', 'U', 'D', 'D', 'U', 'L']\n"
     ]
    }
   ],
   "source": [
    "solve_all(2)"
   ]
  },
  {
   "cell_type": "markdown",
   "metadata": {},
   "source": [
    "#### Map 3:"
   ]
  },
  {
   "cell_type": "code",
   "execution_count": 19,
   "metadata": {},
   "outputs": [
    {
     "name": "stdout",
     "output_type": "stream",
     "text": [
      "BFS took 0.0 seconds on map 3 and visited 130 states.\n",
      "13 moves were used: ['U', 'L', 'D', 'D', 'U', 'U', 'U', 'U', 'R', 'D', 'D', 'D', 'D']\n",
      "DFS took 0.0 seconds on map 3 and visited 72 states.\n",
      "20 moves were used: ['U', 'L', 'U', 'U', 'R', 'D', 'D', 'D', 'U', 'L', 'D', 'U', 'R', 'D', 'D', 'U', 'U', 'L', 'D', 'D']\n",
      "IDS took 0.02 seconds on map 3 and visited 73 states.\n",
      "14 moves were used: ['U', 'L', 'U', 'U', 'R', 'D', 'D', 'D', 'D', 'U', 'U', 'L', 'D', 'D']\n",
      "A* took 0.0 seconds on map 3 and visited 111 states.\n",
      "13 moves were used: ['U', 'L', 'D', 'D', 'U', 'U', 'U', 'U', 'R', 'D', 'D', 'D', 'D']\n",
      "Weighted A* took 0.0 seconds on map 3 and visited 47 states.\n",
      "19 moves were used: ['U', 'L', 'D', 'U', 'U', 'U', 'R', 'D', 'D', 'D', 'U', 'L', 'D', 'D', 'U', 'U', 'R', 'D', 'D']\n"
     ]
    }
   ],
   "source": [
    "solve_all(3)"
   ]
  },
  {
   "cell_type": "markdown",
   "metadata": {},
   "source": [
    "#### Map 4:"
   ]
  },
  {
   "cell_type": "code",
   "execution_count": 20,
   "metadata": {},
   "outputs": [
    {
     "name": "stdout",
     "output_type": "stream",
     "text": [
      "BFS took 0.0 seconds on map 4 and visited 2 states.\n",
      "No Solution Found!\n",
      "DFS took 0.0 seconds on map 4 and visited 2 states.\n",
      "No Solution Found!\n",
      "IDS took 0.06 seconds on map 4 and visited 2 states.\n",
      "No Solution Found!\n",
      "A* took 0.0 seconds on map 4 and visited 2 states.\n",
      "No Solution Found!\n",
      "Weighted A* took 0.0 seconds on map 4 and visited 2 states.\n",
      "No Solution Found!\n"
     ]
    }
   ],
   "source": [
    "solve_all(4)"
   ]
  },
  {
   "cell_type": "markdown",
   "metadata": {},
   "source": [
    "#### Map 5:"
   ]
  },
  {
   "cell_type": "code",
   "execution_count": 21,
   "metadata": {},
   "outputs": [
    {
     "name": "stdout",
     "output_type": "stream",
     "text": [
      "BFS took 0.17 seconds on map 5 and visited 7896 states.\n",
      "15 moves were used: ['U', 'L', 'D', 'D', 'R', 'D', 'L', 'L', 'L', 'U', 'U', 'U', 'R', 'U', 'L']\n",
      "DFS took 0.08 seconds on map 5 and visited 4165 states.\n",
      "187 moves were used: ['U', 'U', 'L', 'L', 'D', 'D', 'D', 'D', 'L', 'L', 'U', 'U', 'R', 'U', 'U', 'R', 'R', 'D', 'D', 'U', 'U', 'L', 'L', 'D', 'D', 'D', 'D', 'R', 'R', 'U', 'U', 'D', 'D', 'L', 'L', 'U', 'U', 'U', 'U', 'R', 'R', 'R', 'D', 'L', 'U', 'L', 'L', 'D', 'D', 'R', 'D', 'D', 'L', 'L', 'U', 'U', 'U', 'U', 'R', 'R', 'D', 'U', 'L', 'L', 'D', 'D', 'D', 'D', 'R', 'R', 'U', 'R', 'U', 'U', 'D', 'D', 'D', 'L', 'L', 'U', 'U', 'R', 'U', 'U', 'L', 'L', 'D', 'D', 'D', 'D', 'R', 'R', 'R', 'U', 'U', 'R', 'U', 'U', 'L', 'D', 'U', 'L', 'D', 'D', 'D', 'D', 'L', 'L', 'U', 'U', 'U', 'U', 'R', 'D', 'D', 'D', 'D', 'R', 'R', 'U', 'U', 'R', 'U', 'L', 'U', 'L', 'D', 'U', 'L', 'D', 'D', 'D', 'D', 'R', 'R', 'U', 'U', 'L', 'U', 'U', 'R', 'R', 'D', 'D', 'D', 'D', 'L', 'L', 'L', 'U', 'U', 'L', 'U', 'R', 'R', 'U', 'R', 'D', 'D', 'U', 'U', 'L', 'L', 'D', 'D', 'D', 'D', 'R', 'R', 'R', 'U', 'L', 'U', 'L', 'D', 'U', 'U', 'U', 'R', 'R', 'D', 'D', 'D', 'D', 'L', 'L', 'L']\n",
      "IDS took 0.14 seconds on map 5 and visited 1355 states.\n",
      "15 moves were used: ['U', 'L', 'D', 'D', 'R', 'D', 'L', 'L', 'L', 'U', 'U', 'U', 'R', 'U', 'L']\n",
      "A* took 0.06 seconds on map 5 and visited 2614 states.\n",
      "15 moves were used: ['L', 'U', 'L', 'D', 'D', 'R', 'D', 'L', 'L', 'U', 'U', 'U', 'R', 'U', 'L']\n",
      "Weighted A* took 0.0 seconds on map 5 and visited 138 states.\n",
      "15 moves were used: ['L', 'U', 'L', 'D', 'L', 'R', 'D', 'R', 'D', 'L', 'L', 'U', 'L', 'U', 'U']\n"
     ]
    }
   ],
   "source": [
    "solve_all(5)"
   ]
  },
  {
   "cell_type": "markdown",
   "metadata": {},
   "source": [
    "#### Map 6:"
   ]
  },
  {
   "cell_type": "code",
   "execution_count": 22,
   "metadata": {},
   "outputs": [
    {
     "name": "stdout",
     "output_type": "stream",
     "text": [
      "BFS took 0.42 seconds on map 6 and visited 21150 states.\n",
      "34 moves were used: ['U', 'U', 'U', 'U', 'U', 'R', 'R', 'R', 'L', 'L', 'L', 'L', 'L', 'L', 'L', 'D', 'D', 'D', 'D', 'D', 'D', 'D', 'D', 'D', 'R', 'D', 'L', 'R', 'R', 'R', 'R', 'R', 'R', 'R']\n",
      "DFS took 0.0 seconds on map 6 and visited 334 states.\n",
      "114 moves were used: ['U', 'U', 'U', 'U', 'U', 'L', 'L', 'D', 'D', 'D', 'D', 'D', 'D', 'D', 'D', 'D', 'D', 'L', 'L', 'U', 'U', 'U', 'U', 'U', 'U', 'U', 'U', 'U', 'L', 'U', 'R', 'D', 'D', 'D', 'D', 'D', 'D', 'D', 'D', 'D', 'D', 'R', 'R', 'U', 'U', 'U', 'U', 'U', 'U', 'U', 'U', 'U', 'U', 'L', 'L', 'D', 'D', 'D', 'D', 'D', 'D', 'D', 'D', 'D', 'D', 'R', 'R', 'U', 'U', 'U', 'U', 'U', 'U', 'U', 'U', 'U', 'U', 'R', 'R', 'D', 'D', 'D', 'D', 'D', 'D', 'D', 'D', 'D', 'D', 'R', 'R', 'U', 'U', 'U', 'U', 'U', 'U', 'U', 'U', 'U', 'U', 'R', 'D', 'D', 'D', 'D', 'D', 'D', 'D', 'D', 'D', 'L', 'D', 'R']\n",
      "IDS took 4.43 seconds on map 6 and visited 15332 states.\n",
      "50 moves were used: ['U', 'U', 'U', 'U', 'U', 'L', 'L', 'L', 'L', 'D', 'D', 'D', 'D', 'D', 'D', 'D', 'D', 'D', 'R', 'D', 'L', 'U', 'U', 'U', 'U', 'U', 'R', 'U', 'R', 'U', 'R', 'U', 'R', 'U', 'U', 'R', 'R', 'R', 'D', 'D', 'D', 'D', 'D', 'D', 'D', 'D', 'D', 'L', 'D', 'R']\n",
      "A* took 0.44 seconds on map 6 and visited 9739 states.\n",
      "34 moves were used: ['U', 'U', 'U', 'U', 'U', 'R', 'R', 'R', 'L', 'L', 'L', 'L', 'L', 'L', 'L', 'D', 'D', 'D', 'D', 'D', 'D', 'D', 'D', 'D', 'R', 'D', 'L', 'R', 'R', 'R', 'R', 'R', 'R', 'R']\n",
      "Weighted A* took 0.12 seconds on map 6 and visited 3274 states.\n",
      "34 moves were used: ['U', 'U', 'U', 'U', 'U', 'R', 'R', 'R', 'L', 'L', 'L', 'L', 'L', 'L', 'L', 'D', 'D', 'D', 'D', 'D', 'D', 'D', 'D', 'D', 'R', 'D', 'L', 'R', 'R', 'R', 'R', 'R', 'R', 'R']\n"
     ]
    }
   ],
   "source": [
    "solve_all(6)"
   ]
  },
  {
   "cell_type": "markdown",
   "metadata": {},
   "source": [
    "#### Map 7:"
   ]
  },
  {
   "cell_type": "code",
   "execution_count": 23,
   "metadata": {},
   "outputs": [
    {
     "name": "stdout",
     "output_type": "stream",
     "text": [
      "BFS took 19.47 seconds on map 7 and visited 815887 states.\n",
      "34 moves were used: ['R', 'U', 'R', 'R', 'D', 'D', 'D', 'D', 'L', 'D', 'R', 'U', 'U', 'U', 'U', 'L', 'L', 'L', 'R', 'D', 'R', 'D', 'R', 'D', 'D', 'L', 'L', 'D', 'L', 'L', 'U', 'U', 'D', 'R']\n",
      "A* took 6.36 seconds on map 7 and visited 179699 states.\n",
      "34 moves were used: ['R', 'U', 'R', 'R', 'D', 'D', 'D', 'D', 'L', 'D', 'R', 'U', 'U', 'U', 'U', 'L', 'L', 'L', 'R', 'D', 'R', 'D', 'R', 'D', 'D', 'L', 'L', 'D', 'L', 'L', 'U', 'U', 'D', 'R']\n",
      "Weighted A* took 0.25 seconds on map 7 and visited 8674 states.\n",
      "34 moves were used: ['R', 'U', 'R', 'R', 'D', 'D', 'D', 'D', 'L', 'D', 'R', 'U', 'U', 'U', 'U', 'L', 'L', 'L', 'R', 'D', 'R', 'D', 'R', 'D', 'D', 'L', 'L', 'D', 'L', 'L', 'U', 'U', 'D', 'R']\n"
     ]
    }
   ],
   "source": [
    "solve(7, \"BFS\")\n",
    "solve(7, \"A*\")\n",
    "solve(7, \"Weighted A*\")"
   ]
  },
  {
   "cell_type": "markdown",
   "metadata": {},
   "source": [
    "#### Map 8:"
   ]
  },
  {
   "cell_type": "code",
   "execution_count": 24,
   "metadata": {},
   "outputs": [
    {
     "name": "stdout",
     "output_type": "stream",
     "text": [
      "BFS took 0.21 seconds on map 8 and visited 10571 states.\n",
      "14 moves were used: ['U', 'U', 'R', 'D', 'L', 'D', 'R', 'R', 'D', 'R', 'U', 'R', 'D', 'R']\n",
      "DFS took 2.07 seconds on map 8 and visited 63298 states.\n",
      "3960 moves were used: ['U', 'U', 'U', 'R', 'R', 'D', 'D', 'D', 'D', 'D', 'D', 'D', 'D', 'D', 'R', 'R', 'U', 'U', 'U', 'U', 'U', 'U', 'R', 'R', 'U', 'R', 'R', 'D', 'D', 'D', 'D', 'D', 'D', 'D', 'L', 'L', 'U', 'U', 'U', 'U', 'R', 'U', 'U', 'U', 'L', 'L', 'D', 'D', 'L', 'L', 'U', 'U', 'L', 'U', 'D', 'D', 'D', 'D', 'D', 'R', 'R', 'U', 'U', 'U', 'U', 'U', 'U', 'U', 'L', 'L', 'D', 'U', 'R', 'R', 'D', 'D', 'D', 'D', 'D', 'D', 'D', 'R', 'R', 'U', 'U', 'U', 'U', 'U', 'U', 'R', 'R', 'D', 'D', 'R', 'D', 'D', 'D', 'D', 'R', 'R', 'U', 'U', 'U', 'R', 'R', 'D', 'D', 'D', 'R', 'R', 'U', 'U', 'R', 'R', 'U', 'U', 'U', 'D', 'D', 'D', 'D', 'D', 'L', 'L', 'U', 'U', 'U', 'U', 'U', 'U', 'U', 'L', 'L', 'U', 'U', 'L', 'L', 'U', 'U', 'U', 'L', 'L', 'D', 'D', 'D', 'R', 'U', 'D', 'D', 'D', 'D', 'D', 'R', 'R', 'U', 'U', 'U', 'U', 'U', 'U', 'U', 'L', 'L', 'L', 'D', 'R', 'U', 'R', 'D', 'U', 'L', 'L', 'D', 'D', 'D', 'D', 'D', 'D', 'D', 'R', 'R', 'U', 'U', 'U', 'R', 'U', 'U', 'R', 'U', 'U', 'R', 'R', 'D', 'D', 'D', 'R', 'R', 'U', 'U', 'R', 'R', 'U', 'D', 'D', 'D', 'D', 'D', 'D', 'D', 'L', 'L', 'U', 'U', 'U', 'U', 'U', 'U', 'U', 'R', 'R', 'D', 'D', 'D', 'D', 'L', 'L', 'U', 'U', 'U', 'U', 'R', 'R', 'U', 'U', 'U', 'R', 'R', 'D', 'U', 'L', 'L', 'D', 'D', 'D', 'D', 'D', 'D', 'D', 'L', 'L', 'U', 'U', 'U', 'U', 'U', 'U', 'L', 'L', 'U', 'L', 'U', 'U', 'R', 'D', 'U', 'L', 'L', 'D', 'D', 'D', 'D', 'D', 'D', 'D', 'R', 'R', 'U', 'U', 'U', 'R', 'U', 'U', 'L', 'U', 'U', 'L', 'L', 'D', 'D', 'D', 'R', 'U', 'D', 'D', 'D', 'D', 'D', 'R', 'R', 'U', 'U', 'U', 'U', 'U', 'U', 'U', 'R', 'R', 'D', 'D', 'D', 'R', 'R', 'U', 'U', 'R', 'R', 'D', 'D', 'D', 'D', 'D', 'D', 'R', 'R', 'U', 'U', 'U', 'U', 'U', 'U', 'R', 'U', 'R', 'U', 'U', 'R', 'R', 'D', 'D', 'D', 'U', 'U', 'U', 'L', 'L', 'D', 'D', 'D', 'D', 'D', 'D', 'D', 'L', 'L', 'U', 'U', 'U', 'U', 'U', 'U', 'L', 'L', 'U', 'U', 'U', 'L', 'D', 'U', 'R', 'R', 'D', 'D', 'D', 'D', 'D', 'D', 'D', 'L', 'L', 'U', 'U', 'U', 'U', 'L', 'U', 'R', 'U', 'U', 'R', 'R', 'D', 'D', 'D', 'D', 'D', 'D', 'D', 'R', 'R', 'U', 'U', 'U', 'U', 'U', 'U', 'R', 'R', 'D', 'D', 'R', 'D', 'D', 'D', 'D', 'R', 'R', 'U', 'U', 'U', 'U', 'U', 'U', 'U', 'D', 'D', 'D', 'D', 'D', 'D', 'D', 'L', 'L', 'U', 'U', 'U', 'U', 'U', 'U', 'U', 'R', 'R', 'D', 'D', 'D', 'D', 'L', 'L', 'U', 'U', 'U', 'U', 'L', 'U', 'U', 'R', 'R', 'U', 'L', 'L', 'D', 'D', 'D', 'D', 'D', 'D', 'D', 'R', 'R', 'U', 'U', 'U', 'R', 'U', 'U', 'R', 'U', 'U', 'R', 'R', 'D', 'D', 'D', 'R', 'R', 'U', 'U', 'R', 'R', 'D', 'D', 'D', 'D', 'D', 'D', 'R', 'R', 'U', 'U', 'U', 'U', 'U', 'U', 'R', 'R', 'U', 'R', 'R', 'D', 'D', 'D', 'D', 'U', 'U', 'U', 'U', 'L', 'L', 'D', 'D', 'D', 'D', 'D', 'D', 'D', 'L', 'L', 'U', 'U', 'U', 'U', 'U', 'U', 'L', 'L', 'U', 'U', 'U', 'L', 'L', 'D', 'D', 'D', 'D', 'D', 'D', 'D', 'R', 'R', 'U', 'U', 'U', 'R', 'U', 'L', 'L', 'D', 'D', 'D', 'L', 'L', 'U', 'U', 'U', 'L', 'L', 'D', 'L', 'U', 'L', 'D', 'U', 'L', 'L', 'D', 'D', 'D', 'D', 'D', 'D', 'D', 'R', 'R', 'U', 'U', 'U', 'R', 'U', 'U', 'L', 'U', 'U', 'L', 'L', 'D', 'D', 'D', 'D', 'D', 'D', 'D', 'R', 'R', 'U', 'U', 'U', 'R', 'U', 'L', 'D', 'D', 'D', 'D', 'D', 'D', 'D', 'R', 'R', 'U', 'U', 'U', 'U', 'U', 'U', 'U', 'R', 'U', 'U', 'U', 'R', 'R', 'D', 'D', 'D', 'D', 'D', 'U', 'U', 'U', 'U', 'U', 'L', 'L', 'D', 'D', 'D', 'D', 'D', 'D', 'D', 'L', 'L', 'U', 'U', 'U', 'U', 'U', 'U', 'L', 'L', 'U', 'U', 'U', 'L', 'L', 'D', 'D', 'D', 'R', 'U', 'D', 'D', 'D', 'D', 'D', 'R', 'R', 'U', 'U', 'U', 'U', 'U', 'U', 'U', 'L', 'L', 'L', 'D', 'R', 'U', 'R', 'D', 'U', 'L', 'L', 'D', 'D', 'D', 'D', 'D', 'D', 'D', 'R', 'R', 'U', 'U', 'U', 'R', 'U', 'U', 'R', 'U', 'U', 'R', 'R', 'D', 'D', 'D', 'R', 'R', 'U', 'U', 'R', 'R', 'U', 'D', 'D', 'D', 'D', 'D', 'D', 'D', 'L', 'L', 'U', 'U', 'U', 'U', 'U', 'U', 'U', 'R', 'R', 'D', 'D', 'D', 'D', 'L', 'L', 'U', 'U', 'U', 'U', 'R', 'R', 'U', 'U', 'U', 'L', 'L', 'D', 'D', 'D', 'D', 'R', 'R', 'R', 'R', 'U', 'U', 'U', 'D', 'D', 'D', 'L', 'L', 'U', 'U', 'U', 'U', 'U', 'U', 'U', 'L', 'L', 'U', 'U', 'L', 'L', 'U', 'L', 'U', 'U', 'R', 'D', 'U', 'L', 'L', 'D', 'D', 'R', 'R', 'U', 'U', 'L', 'L', 'D', 'D', 'D', 'D', 'D', 'D', 'D', 'R', 'R', 'U', 'U', 'U', 'R', 'U', 'U', 'D', 'D', 'D', 'D', 'D', 'L', 'L', 'U', 'U', 'U', 'U', 'U', 'U', 'U', 'R', 'R', 'R', 'D', 'R', 'D', 'D', 'R', 'R', 'U', 'U', 'R', 'R', 'D', 'D', 'D', 'D', 'D', 'D', 'R', 'R', 'U', 'U', 'U', 'U', 'U', 'U', 'R', 'U', 'R', 'D', 'D', 'D', 'D', 'D', 'R', 'R', 'U', 'U', 'U', 'U', 'U', 'D', 'D', 'D', 'D', 'D', 'L', 'L', 'U', 'U', 'U', 'U', 'U', 'U', 'U', 'L', 'L', 'U', 'U', 'L', 'L', 'U', 'L', 'U', 'U', 'R', 'R', 'D', 'U', 'L', 'L', 'D', 'D', 'D', 'D', 'D', 'D', 'D', 'R', 'R', 'U', 'U', 'U', 'U', 'L', 'D', 'D', 'D', 'D', 'D', 'D', 'D', 'R', 'R', 'U', 'U', 'U', 'U', 'U', 'U', 'R', 'U', 'R', 'U', 'U', 'R', 'R', 'D', 'U', 'L', 'L', 'D', 'D', 'D', 'D', 'D', 'D', 'D', 'L', 'L', 'U', 'U', 'U', 'U', 'U', 'U', 'L', 'L', 'U', 'U', 'R', 'D', 'U', 'U', 'L', 'L', 'D', 'D', 'D', 'D', 'D', 'D', 'D', 'R', 'R', 'U', 'U', 'U', 'R', 'U', 'L', 'U', 'U', 'U', 'L', 'L', 'D', 'D', 'D', 'D', 'D', 'D', 'D', 'R', 'R', 'U', 'U', 'R', 'U', 'R', 'U', 'U', 'U', 'R', 'R', 'D', 'D', 'R', 'D', 'D', 'D', 'D', 'R', 'R', 'U', 'U', 'U', 'U', 'U', 'U', 'R', 'R', 'U', 'R', 'U', 'U', 'L', 'L', 'D', 'D', 'D', 'D', 'R', 'R', 'U', 'U', 'U', 'R', 'U', 'R', 'U', 'D', 'D', 'D', 'D', 'D', 'L', 'L', 'U', 'U', 'U', 'U', 'U', 'U', 'U', 'L', 'L', 'U', 'U', 'L', 'L', 'U', 'U', 'U', 'L', 'L', 'D', 'D', 'D', 'D', 'D', 'D', 'D', 'R', 'R', 'U', 'U', 'U', 'R', 'U', 'R', 'U', 'U', 'U', 'R', 'R', 'D', 'D', 'D', 'R', 'R', 'U', 'U', 'U', 'R', 'D', 'D', 'D', 'D', 'D', 'D', 'D', 'R', 'R', 'U', 'U', 'U', 'U', 'U', 'U', 'U', 'R', 'U', 'U', 'U', 'R', 'R', 'D', 'U', 'L', 'L', 'D', 'D', 'D', 'D', 'D', 'D', 'D', 'L', 'L', 'U', 'U', 'U', 'U', 'U', 'U', 'L', 'L', 'D', 'D', 'D', 'D', 'D', 'D', 'L', 'L', 'U', 'U', 'U', 'U', 'U', 'U', 'U', 'R', 'R', 'U', 'U', 'U', 'L', 'L', 'D', 'D', 'D', 'D', 'D', 'D', 'D', 'R', 'R', 'U', 'U', 'R', 'U', 'U', 'U', 'D', 'D', 'D', 'D', 'D', 'L', 'L', 'U', 'U', 'U', 'L', 'U', 'U', 'U', 'U', 'R', 'R', 'D', 'R', 'U', 'L', 'L', 'D', 'D', 'D', 'D', 'D', 'D', 'D', 'D', 'D', 'L', 'L', 'U', 'U', 'U', 'U', 'U', 'U', 'U', 'R', 'R', 'D', 'D', 'D', 'D', 'L', 'L', 'U', 'U', 'U', 'U', 'R', 'R', 'U', 'U', 'U', 'L', 'L', 'D', 'D', 'D', 'D', 'R', 'R', 'U', 'U', 'R', 'U', 'R', 'U', 'U', 'D', 'D', 'D', 'D', 'D', 'L', 'L', 'U', 'U', 'U', 'U', 'U', 'U', 'U', 'L', 'L', 'U', 'U', 'L', 'L', 'U', 'U', 'U', 'L', 'L', 'D', 'D', 'D', 'D', 'D', 'D', 'D', 'R', 'R', 'U', 'U', 'U', 'R', 'U', 'L', 'L', 'D', 'D', 'D', 'L', 'L', 'U', 'U', 'U', 'L', 'D', 'U', 'L', 'L', 'D', 'D', 'D', 'D', 'D', 'D', 'D', 'L', 'L', 'U', 'U', 'U', 'U', 'R', 'D', 'D', 'D', 'D', 'D', 'D', 'D', 'L', 'L', 'U', 'U', 'U', 'U', 'U', 'U', 'L', 'L', 'D', 'L', 'L', 'U', 'U', 'L', 'L', 'D', 'D', 'D', 'D', 'D', 'D', 'D', 'L', 'L', 'U', 'U', 'U', 'U', 'R', 'D', 'D', 'D', 'D', 'D', 'D', 'D', 'R', 'R', 'U', 'U', 'U', 'R', 'R', 'U', 'U', 'U', 'U', 'R', 'D', 'D', 'U', 'U', 'L', 'L', 'D', 'D', 'D', 'D', 'D', 'D', 'D', 'L', 'L', 'U', 'U', 'U', 'U', 'U', 'U', 'L', 'L', 'U', 'U', 'U', 'L', 'L', 'D', 'D', 'D', 'D', 'D', 'D', 'D', 'R', 'R', 'U', 'U', 'U', 'R', 'U', 'L', 'L', 'D', 'D', 'D', 'L', 'L', 'U', 'U', 'U', 'L', 'L', 'D', 'D', 'U', 'U', 'L', 'L', 'D', 'D', 'D', 'D', 'D', 'D', 'D', 'D', 'D', 'L', 'L', 'U', 'U', 'U', 'U', 'U', 'U', 'U', 'R', 'R', 'D', 'D', 'D', 'D', 'L', 'L', 'U', 'U', 'U', 'U', 'R', 'R', 'U', 'U', 'U', 'L', 'L', 'D', 'D', 'D', 'D', 'R', 'R', 'U', 'U', 'R', 'U', 'R', 'U', 'U', 'D', 'D', 'D', 'D', 'D', 'L', 'L', 'U', 'U', 'U', 'U', 'U', 'U', 'U', 'L', 'L', 'U', 'U', 'L', 'L', 'U', 'U', 'U', 'L', 'L', 'D', 'D', 'D', 'D', 'D', 'D', 'D', 'R', 'R', 'U', 'U', 'U', 'R', 'R', 'D', 'D', 'D', 'R', 'R', 'U', 'U', 'U', 'U', 'U', 'U', 'U', 'L', 'L', 'D', 'D', 'D', 'U', 'U', 'U', 'L', 'L', 'D', 'D', 'D', 'D', 'D', 'D', 'D', 'D', 'D', 'L', 'L', 'U', 'U', 'U', 'U', 'U', 'U', 'L', 'L', 'D', 'D', 'D', 'D', 'D', 'D', 'L', 'L', 'U', 'U', 'L', 'U', 'L', 'L', 'U', 'R', 'R', 'U', 'U', 'U', 'R', 'R', 'D', 'U', 'L', 'L', 'D', 'D', 'D', 'D', 'D', 'D', 'D', 'L', 'L', 'U', 'U', 'U', 'U', 'U', 'U', 'L', 'L', 'U', 'U', 'U', 'L', 'L', 'D', 'D', 'D', 'D', 'D', 'D', 'D', 'R', 'R', 'U', 'U', 'U', 'R', 'U', 'L', 'L', 'D', 'D', 'D', 'L', 'L', 'D', 'L', 'L', 'U', 'U', 'U', 'U', 'L', 'L', 'D', 'D', 'D', 'D', 'D', 'D', 'D', 'D', 'D', 'L', 'L', 'U', 'U', 'U', 'U', 'U', 'U', 'L', 'L', 'D', 'D', 'D', 'D', 'D', 'D', 'L', 'L', 'U', 'L', 'U', 'L', 'U', 'L', 'U', 'R', 'R', 'U', 'U', 'U', 'L', 'L', 'D', 'D', 'D', 'D', 'R', 'R', 'U', 'U', 'R', 'U', 'R', 'U', 'U', 'D', 'D', 'D', 'D', 'D', 'L', 'L', 'U', 'U', 'U', 'U', 'U', 'U', 'U', 'L', 'L', 'U', 'U', 'L', 'L', 'U', 'U', 'U', 'L', 'L', 'D', 'D', 'D', 'D', 'D', 'D', 'D', 'R', 'R', 'U', 'U', 'R', 'R', 'U', 'U', 'L', 'D', 'U', 'U', 'U', 'U', 'L', 'L', 'D', 'D', 'D', 'D', 'D', 'D', 'D', 'R', 'R', 'U', 'R', 'U', 'L', 'U', 'U', 'U', 'U', 'U', 'L', 'L', 'D', 'D', 'D', 'D', 'D', 'D', 'D', 'R', 'R', 'R', 'U', 'R', 'U', 'U', 'U', 'U', 'U', 'R', 'R', 'D', 'D', 'R', 'D', 'D', 'D', 'D', 'R', 'R', 'U', 'U', 'U', 'U', 'U', 'U', 'R', 'R', 'U', 'R', 'U', 'U', 'R', 'R', 'D', 'U', 'L', 'L', 'D', 'D', 'D', 'D', 'D', 'D', 'D', 'L', 'L', 'U', 'U', 'U', 'U', 'U', 'U', 'L', 'L', 'U', 'U', 'U', 'L', 'L', 'D', 'D', 'D', 'D', 'D', 'D', 'D', 'R', 'R', 'U', 'U', 'D', 'D', 'L', 'L', 'U', 'U', 'U', 'U', 'U', 'U', 'U', 'R', 'R', 'D', 'D', 'D', 'D', 'D', 'D', 'D', 'D', 'D', 'R', 'R', 'U', 'U', 'U', 'U', 'U', 'U', 'R', 'R', 'U', 'R', 'R', 'D', 'D', 'U', 'U', 'L', 'L', 'D', 'D', 'D', 'D', 'D', 'D', 'D', 'L', 'L', 'U', 'U', 'U', 'U', 'U', 'U', 'L', 'L', 'U', 'U', 'U', 'L', 'L', 'D', 'D', 'D', 'D', 'D', 'D', 'D', 'R', 'R', 'U', 'U', 'R', 'U', 'L', 'D', 'D', 'D', 'L', 'L', 'U', 'U', 'U', 'U', 'U', 'U', 'U', 'R', 'R', 'D', 'D', 'D', 'D', 'D', 'D', 'D', 'D', 'D', 'R', 'R', 'U', 'U', 'U', 'U', 'U', 'U', 'R', 'R', 'U', 'R', 'R', 'D', 'D', 'D', 'U', 'U', 'U', 'L', 'L', 'D', 'D', 'D', 'D', 'D', 'D', 'D', 'L', 'L', 'U', 'U', 'U', 'U', 'U', 'U', 'L', 'L', 'U', 'U', 'U', 'L', 'L', 'D', 'D', 'D', 'D', 'D', 'R', 'U', 'D', 'D', 'D', 'R', 'R', 'U', 'U', 'U', 'U', 'U', 'U', 'U', 'L', 'L', 'D', 'L', 'D', 'D', 'R', 'U', 'U', 'U', 'R', 'R', 'D', 'D', 'D', 'D', 'D', 'D', 'D', 'R', 'R', 'U', 'U', 'U', 'U', 'U', 'U', 'R', 'R', 'D', 'D', 'R', 'D', 'D', 'D', 'D', 'R', 'R', 'U', 'U', 'U', 'U', 'U', 'U', 'R', 'R', 'U', 'R', 'U', 'U', 'L', 'L', 'D', 'D', 'D', 'D', 'R', 'R', 'U', 'U', 'U', 'R', 'U', 'R', 'D', 'U', 'U', 'U', 'U', 'L', 'L', 'D', 'D', 'D', 'D', 'D', 'D', 'D', 'L', 'L', 'U', 'U', 'U', 'U', 'U', 'U', 'L', 'L', 'U', 'U', 'U', 'L', 'L', 'D', 'D', 'D', 'R', 'R', 'D', 'D', 'D', 'D', 'D', 'D', 'D', 'R', 'R', 'U', 'U', 'U', 'R', 'U', 'U', 'U', 'D', 'D', 'D', 'D', 'D', 'D', 'L', 'L', 'U', 'U', 'U', 'U', 'R', 'R', 'D', 'D', 'D', 'D', 'D', 'D', 'D', 'R', 'R', 'U', 'U', 'U', 'U', 'D', 'D', 'D', 'D', 'L', 'L', 'U', 'U', 'U', 'U', 'U', 'U', 'R', 'R', 'U', 'L', 'D', 'D', 'D', 'R', 'U', 'D', 'D', 'D', 'D', 'D', 'L', 'L', 'U', 'U', 'U', 'U', 'U', 'U', 'R', 'U', 'L', 'L', 'D', 'D', 'L', 'D', 'U', 'U', 'L', 'U', 'L', 'U', 'U', 'U', 'R', 'R', 'D', 'D', 'D', 'D', 'D', 'D', 'D', 'R', 'R', 'U', 'U', 'U', 'U', 'U', 'U', 'R', 'R', 'D', 'D', 'R', 'D', 'D', 'D', 'D', 'R', 'R', 'U', 'U', 'U', 'R', 'R', 'U', 'U', 'U', 'L', 'U', 'L', 'U', 'U', 'U', 'R', 'R', 'D', 'D', 'D', 'D', 'D', 'D', 'D', 'R', 'R', 'U', 'U', 'U', 'U', 'U', 'U', 'R', 'R', 'D', 'D', 'R', 'D', 'D', 'D', 'D', 'R', 'R', 'U', 'R', 'R', 'D', 'R', 'R', 'U', 'U', 'U', 'L', 'D', 'D', 'D', 'R', 'R', 'U', 'U', 'U', 'U', 'U', 'U', 'U', 'R', 'D', 'U', 'L', 'L', 'D', 'D', 'D', 'D', 'D', 'D', 'D', 'L', 'L', 'U', 'U', 'U', 'U', 'U', 'U', 'U', 'U', 'D', 'L', 'D', 'D', 'D', 'D', 'D', 'L', 'L', 'U', 'U', 'U', 'U', 'U', 'U', 'U', 'U', 'U', 'L', 'L', 'D', 'D', 'D', 'R', 'R', 'R', 'R', 'U', 'U', 'R', 'D', 'U', 'U', 'L', 'L', 'D', 'D', 'D', 'D', 'D', 'D', 'D', 'L', 'L', 'U', 'U', 'U', 'U', 'R', 'D', 'D', 'L', 'L', 'U', 'U', 'L', 'U', 'U', 'U', 'R', 'R', 'D', 'D', 'D', 'D', 'D', 'D', 'D', 'R', 'R', 'U', 'U', 'U', 'U', 'U', 'U', 'R', 'R', 'D', 'D', 'R', 'D', 'D', 'D', 'D', 'R', 'R', 'U', 'U', 'U', 'R', 'R', 'D', 'D', 'D', 'R', 'R', 'U', 'U', 'U', 'R', 'U', 'U', 'R', 'D', 'U', 'U', 'U', 'L', 'L', 'D', 'D', 'D', 'D', 'D', 'D', 'D', 'L', 'L', 'U', 'U', 'U', 'U', 'R', 'R', 'D', 'D', 'D', 'R', 'R', 'D', 'U', 'U', 'U', 'U', 'L', 'L', 'D', 'D', 'D', 'D', 'R', 'R', 'D', 'U', 'U', 'U', 'U', 'U', 'L', 'L', 'L', 'D', 'D', 'L', 'D', 'U', 'U', 'L', 'U', 'L', 'U', 'U', 'U', 'R', 'R', 'D', 'D', 'D', 'D', 'D', 'D', 'D', 'R', 'R', 'U', 'U', 'U', 'U', 'U', 'U', 'R', 'R', 'D', 'D', 'R', 'D', 'D', 'D', 'D', 'R', 'R', 'U', 'U', 'U', 'R', 'R', 'U', 'U', 'U', 'L', 'U', 'L', 'U', 'U', 'U', 'R', 'R', 'D', 'D', 'D', 'D', 'D', 'D', 'D', 'R', 'R', 'U', 'U', 'U', 'U', 'U', 'U', 'R', 'R', 'D', 'D', 'R', 'D', 'D', 'D', 'D', 'R', 'R', 'U', 'R', 'R', 'D', 'R', 'R', 'U', 'U', 'U', 'L', 'D', 'D', 'D', 'R', 'R', 'R', 'U', 'U', 'U', 'D', 'D', 'D', 'L', 'L', 'U', 'U', 'U', 'U', 'U', 'U', 'U', 'L', 'L', 'U', 'U', 'L', 'L', 'U', 'U', 'U', 'L', 'L', 'D', 'D', 'D', 'D', 'D', 'D', 'D', 'R', 'R', 'U', 'U', 'U', 'R', 'U', 'L', 'L', 'D', 'D', 'D', 'D', 'D', 'D', 'D', 'R', 'R', 'U', 'U', 'U', 'R', 'R', 'U', 'U', 'U', 'L', 'U', 'L', 'U', 'U', 'U', 'R', 'R', 'D', 'D', 'D', 'D', 'D', 'D', 'D', 'R', 'R', 'U', 'U', 'U', 'U', 'U', 'U', 'R', 'R', 'D', 'D', 'R', 'D', 'D', 'D', 'D', 'R', 'R', 'U', 'R', 'R', 'D', 'R', 'R', 'U', 'U', 'U', 'R', 'U', 'U', 'R', 'D', 'U', 'U', 'U', 'L', 'L', 'D', 'D', 'D', 'D', 'D', 'D', 'D', 'L', 'L', 'U', 'U', 'U', 'R', 'D', 'D', 'D', 'L', 'L', 'U', 'U', 'U', 'U', 'U', 'U', 'U', 'R', 'U', 'U', 'U', 'R', 'R', 'D', 'D', 'D', 'D', 'U', 'U', 'U', 'U', 'L', 'L', 'D', 'D', 'D', 'D', 'U', 'U', 'U', 'U', 'L', 'L', 'U', 'U', 'L', 'L', 'U', 'U', 'U', 'L', 'L', 'D', 'D', 'D', 'D', 'D', 'D', 'D', 'R', 'R', 'U', 'U', 'U', 'R', 'U', 'L', 'L', 'D', 'D', 'D', 'D', 'D', 'D', 'D', 'R', 'R', 'U', 'U', 'R', 'R', 'D', 'D', 'R', 'R', 'U', 'U', 'D', 'D', 'L', 'L', 'U', 'U', 'U', 'R', 'R', 'U', 'U', 'U', 'U', 'L', 'L', 'U', 'U', 'L', 'L', 'U', 'U', 'U', 'L', 'L', 'D', 'D', 'D', 'D', 'D', 'D', 'D', 'R', 'R', 'U', 'U', 'U', 'R', 'U', 'L', 'L', 'D', 'D', 'D', 'D', 'D', 'D', 'D', 'R', 'R', 'U', 'U', 'R', 'R', 'D', 'D', 'R', 'R', 'U', 'R', 'U', 'U', 'U', 'U', 'D', 'D', 'D', 'D', 'D', 'L', 'L', 'U', 'U', 'U', 'L', 'U', 'U', 'U', 'R', 'R', 'U', 'R', 'D', 'U', 'L', 'L', 'D', 'D', 'L', 'L', 'U', 'U', 'L', 'U', 'U', 'U', 'R', 'R', 'D', 'D', 'D', 'D', 'D', 'D', 'D', 'R', 'R', 'U', 'U', 'U', 'U', 'U', 'U', 'R', 'R', 'D', 'D', 'R', 'D', 'D', 'D', 'D', 'R', 'R', 'U', 'U', 'U', 'R', 'R', 'D', 'D', 'D', 'R', 'R', 'U', 'R', 'R', 'U', 'U', 'U', 'U', 'D', 'D', 'D', 'D', 'D', 'L', 'L', 'U', 'U', 'U', 'U', 'U', 'U', 'U', 'R', 'R', 'D', 'D', 'U', 'U', 'L', 'L', 'D', 'D', 'D', 'R', 'U', 'D', 'D', 'D', 'D', 'D', 'L', 'L', 'U', 'U', 'U', 'L', 'U', 'U', 'U', 'R', 'R', 'U', 'R', 'R', 'D', 'L', 'U', 'L', 'D', 'U', 'L', 'L', 'U', 'U', 'L', 'U', 'L', 'U', 'U', 'U', 'R', 'R', 'D', 'D', 'D', 'D', 'D', 'D', 'D', 'R', 'R', 'U', 'U', 'U', 'U', 'U', 'U', 'R', 'R', 'D', 'D', 'R', 'D', 'D', 'D', 'D', 'R', 'R', 'U', 'U', 'R', 'R', 'D', 'D', 'R', 'R', 'U', 'U', 'U', 'R', 'R', 'U', 'U', 'D', 'D', 'D', 'D', 'D', 'L', 'L', 'U', 'U', 'U', 'U', 'U', 'D', 'D', 'D', 'D', 'D', 'L', 'L', 'U', 'U', 'U', 'U', 'U', 'U', 'R', 'R', 'U', 'R', 'R', 'D', 'L', 'U', 'L', 'D', 'U', 'R', 'R', 'D', 'D', 'D', 'U', 'U', 'U', 'L', 'L', 'D', 'D', 'U', 'U', 'L', 'L', 'U', 'U', 'L', 'L', 'U', 'U', 'U', 'L', 'L', 'D', 'D', 'D', 'D', 'D', 'D', 'D', 'R', 'R', 'U', 'U', 'U', 'R', 'U', 'L', 'L', 'D', 'D', 'D', 'D', 'D', 'D', 'D', 'R', 'R', 'U', 'U', 'R', 'R', 'D', 'D', 'R', 'R', 'U', 'U', 'U', 'U', 'U', 'D', 'D', 'D', 'D', 'D', 'L', 'L', 'U', 'U', 'U', 'U', 'U', 'U', 'R', 'R', 'U', 'L', 'L', 'U', 'U', 'L', 'U', 'L', 'U', 'U', 'U', 'R', 'R', 'D', 'D', 'D', 'D', 'D', 'D', 'D', 'R', 'R', 'U', 'U', 'U', 'U', 'U', 'U', 'R', 'R', 'D', 'D', 'R', 'D', 'D', 'D', 'D', 'R', 'R', 'U', 'U', 'R', 'R', 'D', 'D', 'R', 'R', 'U', 'U', 'U', 'R', 'U', 'U', 'R', 'U', 'L', 'L', 'U', 'L', 'D', 'U', 'L', 'U', 'L', 'U', 'U', 'L', 'U', 'U', 'U', 'R', 'R', 'D', 'D', 'D', 'D', 'D', 'D', 'D', 'R', 'R', 'U', 'U', 'U', 'U', 'U', 'U', 'R', 'R', 'D', 'D', 'R', 'D', 'D', 'D', 'D', 'R', 'R', 'U', 'U', 'R', 'R', 'D', 'D', 'R', 'R', 'U', 'U', 'U', 'R', 'U', 'U', 'L', 'L', 'U', 'U', 'L', 'U', 'D', 'D', 'D', 'D', 'D', 'L', 'L', 'U', 'U', 'U', 'U', 'U', 'U', 'U', 'U', 'U', 'L', 'L', 'D', 'D', 'D', 'R', 'R', 'R', 'U', 'U', 'U', 'R', 'R', 'D', 'D', 'D', 'D', 'U', 'U', 'U', 'U', 'L', 'L', 'D', 'D', 'D', 'D', 'D', 'D', 'D', 'L', 'L', 'U', 'U', 'U', 'U', 'U', 'U', 'U', 'D', 'L', 'U', 'L', 'U', 'U', 'U', 'R', 'R', 'D', 'D', 'D', 'D', 'D', 'D', 'D', 'R', 'R', 'U', 'U', 'U', 'U', 'U', 'U', 'R', 'R', 'D', 'D', 'R', 'D', 'D', 'D', 'D', 'R', 'R', 'U', 'U', 'U', 'U', 'R', 'R', 'D', 'D', 'D', 'D', 'R', 'R', 'U', 'U', 'U', 'R', 'R', 'D', 'U', 'U', 'U', 'U', 'U', 'L', 'L', 'D', 'D', 'D', 'D', 'D', 'D', 'D', 'L', 'L', 'U', 'U', 'U', 'U', 'U', 'U', 'R', 'U', 'L', 'U', 'L', 'U', 'U', 'L', 'U', 'U', 'U', 'R', 'R', 'D', 'D', 'D', 'D', 'D', 'D', 'D', 'R', 'R', 'U', 'U', 'U', 'U', 'U', 'U', 'R', 'R', 'D', 'D', 'R', 'D', 'D', 'D', 'D', 'R', 'R', 'U', 'U', 'R', 'R', 'D', 'D', 'R', 'R', 'R', 'R', 'U', 'D', 'L', 'L', 'U', 'U', 'U', 'L', 'L', 'U', 'R', 'R', 'D', 'U', 'R', 'R', 'D', 'D', 'L', 'L', 'U', 'U', 'L', 'L', 'D', 'D', 'D', 'D', 'R', 'R', 'U', 'U', 'U', 'R', 'R', 'D', 'U', 'U', 'U', 'U', 'U', 'L', 'L', 'D', 'D', 'D', 'D', 'D', 'D', 'D', 'L', 'L', 'U', 'U', 'U', 'U', 'U', 'R', 'U', 'R', 'D', 'U', 'U', 'L', 'L', 'U', 'U', 'L', 'U', 'L', 'U', 'U', 'U', 'R', 'R', 'D', 'D', 'D', 'D', 'D', 'D', 'D', 'R', 'R', 'U', 'U', 'U', 'U', 'U', 'U', 'R', 'R', 'D', 'D', 'R', 'D', 'D', 'D', 'D', 'R', 'R', 'U', 'U', 'R', 'R', 'D', 'D', 'R', 'R', 'U', 'U', 'U', 'R', 'U', 'L', 'U', 'U', 'U', 'L', 'L', 'U', 'U', 'L', 'L', 'U', 'U', 'U', 'L', 'L', 'D', 'D', 'D', 'D', 'D', 'D', 'D', 'R', 'R', 'U', 'U', 'U', 'R', 'U', 'L', 'L', 'D', 'D', 'D', 'D', 'D', 'D', 'D', 'R', 'R', 'U', 'U', 'R', 'R', 'D', 'D', 'R', 'R', 'R', 'R', 'U', 'U', 'U', 'U', 'U', 'D', 'D', 'D', 'D', 'D', 'L', 'L', 'U', 'U', 'U', 'U', 'U', 'U', 'U', 'L', 'L', 'U', 'U', 'L', 'L', 'U', 'U', 'U', 'L', 'L', 'D', 'D', 'D', 'R', 'R', 'D', 'D', 'D', 'D', 'D', 'D', 'D', 'R', 'R', 'U', 'U', 'U', 'R', 'R', 'U', 'U', 'U', 'U', 'R', 'D', 'U', 'L', 'L', 'D', 'L', 'D', 'L', 'D', 'D', 'D', 'D', 'D', 'L', 'L', 'U', 'U', 'U', 'U', 'U', 'U', 'U', 'U', 'U', 'L', 'L', 'D', 'D', 'D', 'R', 'R', 'R', 'U', 'U', 'U', 'L', 'L', 'U', 'U', 'L', 'L', 'U', 'U', 'U', 'L', 'L', 'D', 'D', 'D', 'D', 'D', 'D', 'D', 'R', 'R', 'U', 'U', 'U', 'R', 'U', 'L', 'L', 'D', 'D', 'D', 'D', 'D', 'D', 'D', 'R', 'R', 'U', 'U', 'R', 'R', 'D', 'D', 'R', 'R', 'U', 'U', 'R', 'U', 'R', 'U', 'U', 'D', 'D', 'D', 'D', 'D', 'L', 'L', 'U', 'U', 'U', 'L', 'L', 'U', 'U', 'U', 'R', 'R', 'U', 'R', 'R', 'D', 'D', 'D', 'U', 'L', 'D', 'U', 'U', 'U', 'L', 'L', 'D', 'D', 'L', 'L', 'U', 'U', 'L', 'U', 'U', 'U', 'R', 'R', 'D', 'D', 'D', 'D', 'D', 'D', 'D', 'R', 'R', 'U', 'U', 'U', 'U', 'U', 'U', 'R', 'R', 'D', 'D', 'R', 'D', 'D', 'D', 'D', 'R', 'R', 'U', 'U', 'U', 'R', 'R', 'D', 'D', 'D', 'R', 'R', 'U', 'U', 'R', 'R', 'U', 'U', 'U', 'D', 'D', 'D', 'D', 'D', 'L', 'L', 'U', 'U', 'U', 'U', 'U', 'U', 'U', 'R', 'R', 'D', 'D', 'U', 'U', 'L', 'L', 'D', 'D', 'D', 'R', 'D', 'U', 'U', 'U', 'U', 'L', 'L', 'D', 'D', 'L', 'L', 'U', 'U', 'L', 'U', 'U', 'U', 'R', 'R', 'D', 'D', 'D', 'D', 'D', 'D', 'D', 'R', 'R', 'U', 'U', 'U', 'U', 'U', 'U', 'R', 'R', 'D', 'D', 'R', 'D', 'D', 'D', 'D', 'R', 'R', 'U', 'U', 'U', 'R', 'R', 'D', 'D', 'D', 'R', 'R', 'U', 'R', 'R', 'U', 'L', 'U', 'U', 'U', 'U', 'U', 'L', 'L', 'D', 'D', 'L', 'L', 'U', 'U', 'L', 'U', 'U', 'U', 'R', 'R', 'D', 'D', 'D', 'D', 'D', 'D', 'D', 'R', 'R', 'U', 'U', 'U', 'U', 'U', 'U', 'R', 'R', 'D', 'D', 'R', 'D', 'D', 'D', 'D', 'R', 'R', 'U', 'U', 'U', 'R', 'R', 'D', 'D', 'D', 'R', 'R', 'U', 'U']\n",
      "IDS took 0.48 seconds on map 8 and visited 4200 states.\n",
      "17 moves were used: ['U', 'R', 'U', 'R', 'D', 'D', 'L', 'D', 'R', 'R', 'R', 'R', 'U', 'R', 'D', 'D', 'R']\n",
      "A* took 0.04 seconds on map 8 and visited 2073 states.\n",
      "14 moves were used: ['U', 'U', 'R', 'D', 'L', 'D', 'R', 'R', 'D', 'R', 'U', 'R', 'D', 'R']\n",
      "Weighted A* took 0.0 seconds on map 8 and visited 71 states.\n",
      "19 moves were used: ['U', 'R', 'R', 'R', 'R', 'R', 'R', 'R', 'R', 'R', 'R', 'R', 'R', 'R', 'U', 'R', 'D', 'D', 'R']\n"
     ]
    }
   ],
   "source": [
    "solve_all(8)"
   ]
  },
  {
   "cell_type": "markdown",
   "metadata": {},
   "source": [
    "#### Map 9:"
   ]
  },
  {
   "cell_type": "code",
   "execution_count": 25,
   "metadata": {},
   "outputs": [
    {
     "name": "stdout",
     "output_type": "stream",
     "text": [
      "Weighted A* took 42.97 seconds on map 9 and visited 970754 states.\n",
      "59 moves were used: ['R', 'U', 'R', 'R', 'R', 'L', 'D', 'D', 'L', 'U', 'L', 'U', 'R', 'R', 'U', 'R', 'D', 'R', 'D', 'R', 'D', 'L', 'D', 'L', 'U', 'R', 'U', 'U', 'U', 'R', 'D', 'R', 'D', 'L', 'L', 'U', 'U', 'L', 'L', 'U', 'U', 'U', 'L', 'L', 'L', 'U', 'R', 'R', 'U', 'R', 'D', 'D', 'D', 'D', 'D', 'D', 'L', 'D', 'R']\n"
     ]
    }
   ],
   "source": [
    "solve(9, \"Weighted A*\")"
   ]
  },
  {
   "cell_type": "markdown",
   "metadata": {},
   "source": [
    "#### Map 10:"
   ]
  },
  {
   "cell_type": "code",
   "execution_count": 26,
   "metadata": {},
   "outputs": [
    {
     "name": "stdout",
     "output_type": "stream",
     "text": [
      "BFS took 6.11 seconds on map 10 and visited 255660 states.\n",
      "46 moves were used: ['R', 'R', 'R', 'R', 'R', 'D', 'R', 'U', 'L', 'U', 'R', 'U', 'L', 'L', 'L', 'U', 'L', 'D', 'R', 'U', 'U', 'U', 'L', 'D', 'R', 'D', 'L', 'D', 'R', 'R', 'D', 'R', 'U', 'L', 'U', 'R', 'U', 'R', 'D', 'D', 'R', 'D', 'L', 'L', 'L', 'L']\n",
      "DFS took 17.34 seconds on map 10 and visited 447639 states.\n",
      "5663 moves were used: ['U', 'U', 'L', 'L', 'D', 'D', 'D', 'D', 'R', 'R', 'R', 'U', 'R', 'U', 'U', 'U', 'R', 'R', 'D', 'D', 'D', 'D', 'R', 'R', 'U', 'U', 'U', 'U', 'L', 'L', 'D', 'D', 'D', 'L', 'L', 'U', 'U', 'R', 'U', 'U', 'L', 'D', 'L', 'D', 'D', 'R', 'U', 'L', 'D', 'D', 'D', 'R', 'R', 'U', 'R', 'U', 'U', 'R', 'R', 'D', 'D', 'D', 'L', 'U', 'L', 'L', 'D', 'D', 'D', 'D', 'R', 'R', 'U', 'U', 'L', 'U', 'U', 'L', 'L', 'D', 'D', 'D', 'D', 'R', 'R', 'R', 'U', 'R', 'U', 'U', 'L', 'U', 'U', 'L', 'L', 'D', 'L', 'U', 'U', 'U', 'R', 'R', 'D', 'D', 'L', 'D', 'D', 'R', 'U', 'D', 'R', 'R', 'U', 'U', 'U', 'R', 'R', 'D', 'D', 'L', 'U', 'L', 'L', 'D', 'D', 'D', 'R', 'U', 'D', 'D', 'L', 'L', 'U', 'U', 'U', 'U', 'R', 'R', 'R', 'D', 'L', 'U', 'L', 'D', 'U', 'L', 'L', 'D', 'D', 'D', 'D', 'R', 'R', 'U', 'U', 'D', 'D', 'R', 'R', 'U', 'U', 'R', 'U', 'U', 'L', 'L', 'D', 'D', 'D', 'L', 'L', 'U', 'U', 'R', 'U', 'U', 'L', 'D', 'L', 'D', 'D', 'R', 'U', 'L', 'D', 'D', 'D', 'R', 'R', 'U', 'R', 'U', 'U', 'R', 'R', 'D', 'D', 'D', 'L', 'U', 'L', 'L', 'D', 'D', 'D', 'D', 'L', 'L', 'U', 'U', 'U', 'R', 'U', 'L', 'L', 'D', 'D', 'D', 'D', 'R', 'R', 'U', 'R', 'U', 'R', 'U', 'U', 'R', 'D', 'L', 'U', 'U', 'U', 'L', 'L', 'D', 'L', 'U', 'U', 'U', 'R', 'R', 'D', 'D', 'L', 'D', 'R', 'U', 'L', 'D', 'D', 'R', 'U', 'R', 'R', 'D', 'D', 'D', 'L', 'U', 'D', 'L', 'L', 'U', 'U', 'U', 'R', 'D', 'L', 'U', 'R', 'U', 'L', 'D', 'R', 'U', 'U', 'L', 'D', 'D', 'R', 'R', 'U', 'R', 'U', 'L', 'L', 'D', 'D', 'D', 'D', 'L', 'L', 'U', 'U', 'U', 'R', 'U', 'L', 'L', 'D', 'D', 'D', 'D', 'R', 'R', 'U', 'R', 'U', 'R', 'U', 'U', 'L', 'D', 'U', 'L', 'L', 'D', 'L', 'U', 'U', 'U', 'R', 'R', 'D', 'D', 'L', 'D', 'D', 'R', 'R', 'R', 'U', 'D', 'L', 'L', 'U', 'U', 'L', 'D', 'R', 'R', 'U', 'L', 'L', 'D', 'L', 'U', 'U', 'U', 'R', 'R', 'D', 'D', 'L', 'D', 'D', 'R', 'R', 'R', 'R', 'U', 'L', 'D', 'U', 'L', 'L', 'D', 'D', 'D', 'D', 'R', 'R', 'U', 'R', 'U', 'L', 'U', 'U', 'L', 'L', 'D', 'D', 'D', 'D', 'R', 'R', 'R', 'U', 'R', 'U', 'U', 'L', 'U', 'U', 'R', 'D', 'U', 'L', 'L', 'D', 'D', 'D', 'R', 'R', 'U', 'L', 'D', 'D', 'D', 'D', 'L', 'L', 'U', 'U', 'R', 'U', 'U', 'L', 'L', 'D', 'D', 'D', 'D', 'R', 'R', 'R', 'U', 'U', 'D', 'D', 'L', 'L', 'U', 'U', 'U', 'U', 'R', 'R', 'R', 'D', 'L', 'U', 'U', 'U', 'R', 'R', 'D', 'D', 'L', 'U', 'L', 'L', 'D', 'D', 'D', 'D', 'R', 'R', 'U', 'R', 'U', 'D', 'D', 'L', 'L', 'U', 'U', 'L', 'U', 'U', 'R', 'R', 'D', 'L', 'U', 'L', 'D', 'U', 'L', 'L', 'D', 'D', 'D', 'D', 'R', 'R', 'U', 'U', 'D', 'D', 'R', 'R', 'U', 'U', 'R', 'R', 'U', 'U', 'L', 'D', 'L', 'L', 'U', 'U', 'U', 'R', 'R', 'D', 'U', 'L', 'L', 'D', 'D', 'D', 'R', 'R', 'U', 'L', 'D', 'D', 'D', 'D', 'L', 'L', 'U', 'U', 'L', 'U', 'U', 'R', 'D', 'U', 'L', 'L', 'D', 'D', 'D', 'D', 'R', 'R', 'U', 'R', 'R', 'U', 'U', 'U', 'R', 'D', 'L', 'U', 'U', 'R', 'D', 'U', 'U', 'L', 'L', 'D', 'D', 'D', 'R', 'R', 'U', 'L', 'D', 'L', 'D', 'D', 'D', 'L', 'L', 'U', 'U', 'R', 'U', 'U', 'L', 'L', 'D', 'D', 'D', 'D', 'R', 'R', 'R', 'U', 'U', 'D', 'D', 'L', 'L', 'U', 'U', 'U', 'U', 'R', 'R', 'R', 'D', 'L', 'U', 'L', 'L', 'D', 'D', 'D', 'D', 'R', 'R', 'R', 'R', 'R', 'U', 'L', 'U', 'U', 'U', 'L', 'L', 'D', 'D', 'D', 'R', 'R', 'U', 'L', 'D', 'L', 'D', 'D', 'D', 'L', 'L', 'U', 'U', 'U', 'U', 'R', 'D', 'U', 'L', 'L', 'D', 'D', 'D', 'D', 'R', 'R', 'U', 'R', 'U', 'L', 'U', 'U', 'L', 'L', 'D', 'D', 'D', 'D', 'R', 'R', 'R', 'U', 'R', 'U', 'U', 'U', 'L', 'L', 'D', 'L', 'D', 'U', 'U', 'L', 'L', 'D', 'D', 'D', 'D', 'R', 'R', 'U', 'U', 'D', 'D', 'L', 'L', 'U', 'U', 'U', 'U', 'R', 'R', 'R', 'R', 'D', 'D', 'D', 'D', 'R', 'R', 'U', 'U', 'D', 'D', 'L', 'L', 'U', 'U', 'U', 'U', 'L', 'L', 'D', 'U', 'L', 'L', 'D', 'D', 'D', 'D', 'R', 'R', 'U', 'R', 'U', 'L', 'U', 'U', 'L', 'L', 'D', 'D', 'D', 'D', 'R', 'R', 'R', 'U', 'R', 'U', 'U', 'U', 'R', 'R', 'D', 'L', 'U', 'U', 'U', 'R', 'D', 'U', 'L', 'L', 'D', 'D', 'D', 'R', 'R', 'U', 'L', 'D', 'D', 'D', 'D', 'L', 'L', 'U', 'U', 'U', 'U', 'L', 'L', 'D', 'D', 'U', 'U', 'L', 'L', 'D', 'D', 'D', 'D', 'R', 'R', 'U', 'U', 'D', 'D', 'L', 'L', 'U', 'U', 'U', 'U', 'R', 'R', 'R', 'D', 'L', 'U', 'L', 'D', 'U', 'L', 'L', 'D', 'D', 'D', 'D', 'R', 'R', 'U', 'U', 'D', 'D', 'R', 'R', 'U', 'U', 'R', 'U', 'U', 'R', 'R', 'D', 'D', 'D', 'D', 'R', 'R', 'U', 'U', 'U', 'L', 'U', 'R', 'D', 'U', 'U', 'L', 'L', 'D', 'D', 'D', 'R', 'R', 'U', 'L', 'D', 'L', 'D', 'D', 'D', 'L', 'L', 'U', 'U', 'U', 'U', 'L', 'L', 'D', 'U', 'L', 'L', 'D', 'D', 'D', 'D', 'R', 'R', 'U', 'U', 'D', 'D', 'L', 'L', 'U', 'U', 'U', 'R', 'R', 'U', 'L', 'L', 'D', 'D', 'D', 'D', 'R', 'R', 'U', 'R', 'U', 'R', 'U', 'U', 'R', 'R', 'D', 'D', 'D', 'D', 'R', 'R', 'U', 'U', 'D', 'D', 'L', 'L', 'U', 'U', 'U', 'U', 'L', 'L', 'D', 'L', 'U', 'L', 'D', 'U', 'L', 'L', 'D', 'D', 'D', 'D', 'R', 'R', 'U', 'U', 'D', 'D', 'R', 'R', 'U', 'U', 'R', 'U', 'U', 'R', 'R', 'D', 'D', 'D', 'D', 'R', 'R', 'U', 'U', 'U', 'L', 'U', 'U', 'R', 'R', 'D', 'L', 'U', 'L', 'D', 'U', 'L', 'L', 'D', 'L', 'U', 'U', 'U', 'R', 'R', 'D', 'D', 'L', 'D', 'D', 'R', 'R', 'R', 'U', 'D', 'R', 'U', 'L', 'D', 'D', 'D', 'D', 'L', 'L', 'U', 'U', 'U', 'U', 'L', 'L', 'D', 'D', 'D', 'D', 'L', 'L', 'U', 'U', 'U', 'R', 'U', 'L', 'L', 'D', 'D', 'D', 'D', 'R', 'R', 'U', 'R', 'U', 'R', 'U', 'U', 'R', 'R', 'D', 'D', 'D', 'D', 'R', 'R', 'U', 'U', 'U', 'U', 'L', 'D', 'U', 'L', 'L', 'D', 'L', 'U', 'U', 'U', 'R', 'R', 'D', 'D', 'L', 'D', 'D', 'R', 'R', 'R', 'U', 'D', 'L', 'L', 'U', 'U', 'L', 'D', 'R', 'R', 'U', 'R', 'D', 'U', 'L', 'L', 'D', 'D', 'D', 'R', 'R', 'U', 'R', 'D', 'D', 'L', 'U', 'U', 'L', 'L', 'D', 'D', 'D', 'R', 'R', 'U', 'L', 'D', 'D', 'U', 'U', 'L', 'L', 'D', 'D', 'D', 'D', 'L', 'L', 'U', 'U', 'L', 'U', 'U', 'R', 'D', 'U', 'L', 'L', 'D', 'D', 'D', 'D', 'R', 'R', 'U', 'R', 'R', 'U', 'U', 'U', 'R', 'R', 'D', 'D', 'R', 'D', 'D', 'L', 'U', 'U', 'D', 'D', 'L', 'L', 'U', 'U', 'U', 'U', 'L', 'L', 'D', 'D', 'U', 'U', 'L', 'L', 'D', 'D', 'D', 'D', 'R', 'R', 'U', 'U', 'D', 'D', 'L', 'L', 'U', 'U', 'U', 'U', 'R', 'R', 'R', 'D', 'L', 'U', 'L', 'D', 'U', 'L', 'L', 'D', 'D', 'D', 'D', 'R', 'R', 'U', 'U', 'D', 'D', 'R', 'R', 'U', 'U', 'R', 'U', 'U', 'R', 'R', 'D', 'U', 'L', 'L', 'D', 'D', 'D', 'D', 'L', 'L', 'U', 'U', 'U', 'U', 'L', 'D', 'U', 'L', 'L', 'D', 'D', 'D', 'D', 'R', 'R', 'U', 'R', 'U', 'L', 'U', 'U', 'L', 'L', 'D', 'D', 'D', 'D', 'R', 'R', 'R', 'U', 'R', 'U', 'U', 'U', 'R', 'R', 'D', 'D', 'D', 'D', 'R', 'R', 'U', 'U', 'L', 'U', 'U', 'L', 'L', 'D', 'D', 'D', 'D', 'L', 'L', 'U', 'U', 'U', 'U', 'L', 'L', 'D', 'D', 'U', 'U', 'R', 'R', 'D', 'D', 'D', 'D', 'L', 'L', 'U', 'U', 'D', 'D', 'R', 'R', 'U', 'U', 'U', 'U', 'L', 'L', 'L', 'D', 'R', 'U', 'R', 'D', 'U', 'L', 'L', 'D', 'D', 'D', 'D', 'R', 'R', 'U', 'U', 'D', 'D', 'R', 'R', 'U', 'U', 'U', 'U', 'R', 'R', 'D', 'D', 'U', 'U', 'L', 'L', 'D', 'D', 'D', 'D', 'L', 'L', 'U', 'U', 'L', 'U', 'U', 'R', 'D', 'U', 'L', 'L', 'D', 'D', 'D', 'D', 'R', 'R', 'U', 'R', 'U', 'L', 'U', 'U', 'L', 'L', 'D', 'D', 'D', 'D', 'R', 'R', 'R', 'U', 'R', 'U', 'U', 'U', 'R', 'R', 'D', 'D', 'R', 'D', 'L', 'U', 'U', 'U', 'L', 'L', 'D', 'D', 'D', 'D', 'L', 'L', 'U', 'U', 'U', 'U', 'L', 'L', 'D', 'D', 'R', 'U', 'U', 'R', 'R', 'D', 'D', 'D', 'D', 'R', 'R', 'U', 'U', 'D', 'D', 'L', 'L', 'U', 'U', 'U', 'U', 'L', 'L', 'D', 'D', 'R', 'U', 'U', 'L', 'L', 'D', 'D', 'D', 'D', 'R', 'R', 'R', 'U', 'U', 'D', 'D', 'L', 'L', 'U', 'U', 'U', 'U', 'R', 'R', 'R', 'D', 'L', 'U', 'L', 'L', 'D', 'D', 'D', 'D', 'R', 'R', 'U', 'R', 'U', 'R', 'R', 'U', 'U', 'L', 'D', 'U', 'L', 'L', 'D', 'D', 'D', 'D', 'L', 'L', 'U', 'U', 'U', 'R', 'U', 'L', 'L', 'D', 'D', 'D', 'D', 'R', 'R', 'U', 'R', 'U', 'R', 'U', 'U', 'R', 'R', 'D', 'D', 'D', 'L', 'U', 'D', 'D', 'R', 'R', 'U', 'U', 'U', 'L', 'L', 'U', 'L', 'D', 'U', 'L', 'D', 'U', 'L', 'L', 'D', 'D', 'D', 'D', 'R', 'R', 'U', 'U', 'D', 'D', 'L', 'L', 'U', 'U', 'U', 'R', 'R', 'U', 'L', 'L', 'D', 'D', 'D', 'D', 'R', 'R', 'U', 'R', 'R', 'U', 'L', 'D', 'D', 'L', 'L', 'U', 'U', 'U', 'U', 'R', 'R', 'D', 'U', 'L', 'L', 'D', 'D', 'D', 'R', 'U', 'D', 'D', 'L', 'L', 'U', 'U', 'U', 'U', 'R', 'R', 'R', 'D', 'D', 'U', 'U', 'L', 'D', 'U', 'L', 'L', 'D', 'D', 'D', 'D', 'R', 'R', 'U', 'R', 'U', 'U', 'U', 'L', 'L', 'D', 'D', 'R', 'U', 'U', 'L', 'L', 'D', 'D', 'D', 'D', 'R', 'R', 'R', 'U', 'U', 'D', 'D', 'L', 'L', 'U', 'U', 'U', 'U', 'R', 'R', 'R', 'D', 'L', 'U', 'L', 'L', 'D', 'D', 'D', 'D', 'R', 'R', 'U', 'R', 'U', 'U', 'U', 'L', 'L', 'D', 'U', 'L', 'L', 'D', 'D', 'D', 'D', 'R', 'R', 'U', 'U', 'D', 'D', 'L', 'L', 'U', 'U', 'U', 'R', 'R', 'U', 'L', 'L', 'D', 'D', 'D', 'D', 'R', 'R', 'U', 'R', 'U', 'R', 'U', 'U', 'R', 'R', 'D', 'D', 'D', 'D', 'L', 'U', 'U', 'D', 'D', 'L', 'L', 'U', 'U', 'L', 'U', 'U', 'R', 'D', 'U', 'L', 'L', 'D', 'D', 'D', 'D', 'R', 'R', 'U', 'R', 'U', 'L', 'U', 'U', 'L', 'L', 'D', 'D', 'D', 'D', 'R', 'R', 'R', 'U', 'R', 'U', 'R', 'U', 'U', 'L', 'D', 'U', 'L', 'L', 'D', 'D', 'D', 'D', 'L', 'L', 'U', 'U', 'R', 'U', 'U', 'L', 'L', 'D', 'D', 'D', 'D', 'R', 'R', 'R', 'U', 'U', 'D', 'D', 'L', 'L', 'U', 'U', 'U', 'U', 'R', 'R', 'R', 'D', 'L', 'U', 'L', 'L', 'D', 'D', 'D', 'D', 'R', 'R', 'U', 'R', 'U', 'R', 'U', 'U', 'L', 'L', 'D', 'D', 'D', 'D', 'L', 'L', 'U', 'U', 'U', 'R', 'U', 'L', 'L', 'D', 'D', 'D', 'D', 'R', 'R', 'U', 'R', 'U', 'R', 'U', 'U', 'R', 'R', 'D', 'D', 'U', 'U', 'L', 'L', 'D', 'D', 'D', 'D', 'L', 'L', 'U', 'U', 'U', 'R', 'U', 'L', 'L', 'D', 'D', 'D', 'D', 'R', 'R', 'U', 'R', 'U', 'R', 'U', 'U', 'R', 'R', 'D', 'L', 'U', 'U', 'R', 'D', 'D', 'D', 'L', 'U', 'U', 'D', 'D', 'L', 'L', 'U', 'U', 'L', 'U', 'U', 'R', 'D', 'U', 'L', 'L', 'D', 'D', 'D', 'D', 'R', 'R', 'U', 'R', 'U', 'L', 'U', 'U', 'L', 'L', 'D', 'D', 'D', 'D', 'R', 'R', 'R', 'U', 'R', 'U', 'R', 'U', 'U', 'L', 'L', 'D', 'D', 'D', 'R', 'R', 'U', 'L', 'D', 'U', 'L', 'L', 'D', 'D', 'D', 'D', 'L', 'L', 'U', 'U', 'R', 'U', 'U', 'L', 'L', 'D', 'D', 'D', 'D', 'R', 'R', 'R', 'U', 'U', 'D', 'D', 'L', 'L', 'U', 'U', 'U', 'U', 'R', 'R', 'R', 'D', 'R', 'R', 'U', 'U', 'L', 'L', 'D', 'D', 'R', 'D', 'L', 'L', 'U', 'U', 'L', 'L', 'D', 'U', 'L', 'L', 'D', 'D', 'D', 'D', 'R', 'R', 'U', 'U', 'D', 'D', 'L', 'L', 'U', 'U', 'U', 'R', 'R', 'U', 'L', 'L', 'D', 'D', 'D', 'D', 'R', 'R', 'U', 'R', 'R', 'U', 'L', 'D', 'D', 'L', 'L', 'U', 'U', 'U', 'U', 'R', 'R', 'D', 'U', 'L', 'L', 'D', 'D', 'D', 'R', 'U', 'D', 'D', 'L', 'L', 'U', 'U', 'U', 'U', 'R', 'R', 'R', 'D', 'D', 'U', 'U', 'L', 'D', 'U', 'L', 'L', 'D', 'D', 'D', 'D', 'R', 'R', 'R', 'R', 'U', 'L', 'U', 'L', 'U', 'U', 'L', 'L', 'D', 'D', 'D', 'D', 'R', 'R', 'U', 'U', 'D', 'D', 'L', 'L', 'U', 'L', 'U', 'U', 'U', 'R', 'R', 'D', 'D', 'U', 'U', 'L', 'L', 'D', 'D', 'D', 'D', 'R', 'R', 'R', 'U', 'L', 'U', 'U', 'U', 'R', 'D', 'U', 'L', 'L', 'D', 'D', 'L', 'D', 'D', 'R', 'U', 'D', 'L', 'L', 'U', 'U', 'U', 'U', 'R', 'R', 'D', 'R', 'D', 'L', 'U', 'U', 'R', 'R', 'D', 'D', 'U', 'U', 'R', 'R', 'D', 'D', 'D', 'L', 'L', 'U', 'U', 'U', 'L', 'L', 'D', 'D', 'D', 'D', 'L', 'L', 'U', 'U', 'R', 'U', 'U', 'L', 'L', 'D', 'D', 'D', 'D', 'R', 'R', 'R', 'U', 'U', 'D', 'D', 'L', 'L', 'U', 'U', 'U', 'U', 'R', 'R', 'R', 'D', 'L', 'U', 'L', 'L', 'D', 'D', 'D', 'D', 'R', 'R', 'U', 'R', 'U', 'U', 'U', 'L', 'L', 'L', 'D', 'R', 'U', 'L', 'L', 'D', 'D', 'D', 'D', 'R', 'R', 'U', 'R', 'U', 'R', 'U', 'U', 'R', 'R', 'D', 'D', 'D', 'L', 'L', 'U', 'U', 'U', 'L', 'D', 'U', 'L', 'L', 'D', 'D', 'D', 'D', 'R', 'R', 'R', 'U', 'U', 'L', 'U', 'U', 'L', 'L', 'D', 'D', 'D', 'D', 'R', 'R', 'U', 'U', 'D', 'D', 'L', 'L', 'U', 'U', 'U', 'U', 'R', 'R', 'D', 'L', 'D', 'U', 'U', 'L', 'L', 'D', 'D', 'D', 'D', 'R', 'R', 'R', 'U', 'U', 'D', 'D', 'L', 'L', 'U', 'U', 'U', 'U', 'R', 'R', 'R', 'D', 'L', 'U', 'L', 'D', 'U', 'L', 'L', 'D', 'D', 'D', 'D', 'R', 'R', 'R', 'U', 'U', 'L', 'U', 'U', 'L', 'L', 'D', 'D', 'D', 'D', 'R', 'R', 'U', 'U', 'D', 'D', 'L', 'L', 'U', 'U', 'U', 'U', 'R', 'R', 'D', 'L', 'D', 'U', 'U', 'R', 'R', 'D', 'D', 'D', 'D', 'L', 'L', 'L', 'U', 'R', 'U', 'U', 'U', 'R', 'R', 'D', 'D', 'L', 'U', 'U', 'L', 'L', 'D', 'D', 'D', 'D', 'R', 'R', 'U', 'U', 'D', 'D', 'L', 'L', 'U', 'U', 'U', 'U', 'R', 'R', 'D', 'L', 'D', 'R', 'U', 'U', 'L', 'L', 'D', 'D', 'D', 'D', 'R', 'U', 'U', 'D', 'D', 'R', 'R', 'U', 'U', 'D', 'D', 'L', 'L', 'U', 'U', 'L', 'U', 'U', 'R', 'D', 'U', 'R', 'R', 'D', 'U', 'R', 'R', 'D', 'D', 'D', 'D', 'L', 'L', 'U', 'U', 'D', 'D', 'R', 'R', 'U', 'U', 'U', 'L', 'L', 'L', 'U', 'L', 'L', 'D', 'D', 'R', 'D', 'D', 'R', 'R', 'U', 'U', 'U', 'L', 'D', 'L', 'D', 'D', 'R', 'R', 'U', 'L', 'U', 'U', 'U', 'L', 'L', 'D', 'R', 'U', 'R', 'R', 'D', 'D', 'D', 'D', 'L', 'L', 'L', 'U', 'R', 'R', 'U', 'L', 'U', 'U', 'R', 'D', 'U', 'L', 'L', 'D', 'D', 'D', 'D', 'R', 'R', 'U', 'R', 'U', 'U', 'U', 'R', 'R', 'D', 'D', 'D', 'D', 'L', 'U', 'U', 'D', 'D', 'L', 'L', 'U', 'U', 'D', 'D', 'L', 'L', 'U', 'U', 'U', 'U', 'R', 'R', 'D', 'U', 'R', 'R', 'D', 'U', 'L', 'L', 'D', 'D', 'U', 'U', 'L', 'L', 'D', 'D', 'D', 'D', 'R', 'R', 'U', 'U', 'D', 'D', 'L', 'L', 'U', 'U', 'U', 'U', 'R', 'R', 'R', 'R', 'D', 'D', 'U', 'U', 'L', 'L', 'L', 'D', 'D', 'D', 'D', 'R', 'R', 'R', 'U', 'U', 'D', 'D', 'R', 'R', 'U', 'U', 'U', 'L', 'L', 'U', 'L', 'D', 'U', 'L', 'D', 'U', 'L', 'L', 'D', 'D', 'D', 'D', 'R', 'R', 'U', 'U', 'D', 'D', 'L', 'L', 'U', 'U', 'U', 'R', 'R', 'R', 'U', 'L', 'L', 'D', 'D', 'D', 'D', 'R', 'R', 'U', 'R', 'U', 'L', 'U', 'U', 'L', 'L', 'D', 'D', 'D', 'R', 'U', 'D', 'D', 'L', 'L', 'U', 'U', 'U', 'U', 'R', 'R', 'R', 'D', 'L', 'U', 'L', 'D', 'U', 'R', 'R', 'D', 'D', 'D', 'D', 'L', 'L', 'U', 'U', 'D', 'D', 'R', 'R', 'U', 'U', 'R', 'R', 'U', 'U', 'L', 'D', 'U', 'L', 'L', 'D', 'D', 'D', 'D', 'L', 'L', 'U', 'U', 'U', 'R', 'U', 'R', 'D', 'U', 'L', 'L', 'D', 'D', 'D', 'D', 'R', 'R', 'U', 'U', 'D', 'D', 'R', 'R', 'U', 'R', 'U', 'U', 'L', 'D', 'R', 'D', 'L', 'U', 'U', 'U', 'L', 'L', 'L', 'D', 'D', 'D', 'D', 'R', 'R', 'U', 'U', 'D', 'D', 'L', 'L', 'U', 'U', 'L', 'U', 'U', 'R', 'R', 'R', 'D', 'U', 'L', 'L', 'D', 'R', 'U', 'L', 'L', 'D', 'D', 'D', 'D', 'R', 'R', 'U', 'R', 'R', 'U', 'L', 'D', 'D', 'L', 'L', 'U', 'U', 'U', 'U', 'R', 'R', 'R', 'D', 'L', 'L', 'D', 'U', 'U', 'L', 'L', 'D', 'D', 'D', 'D', 'R', 'R', 'R', 'U', 'L', 'U', 'U', 'U', 'L', 'L', 'D', 'R', 'R', 'U', 'L', 'L', 'D', 'D', 'D', 'D', 'R', 'U', 'U', 'D', 'D', 'R', 'R', 'U', 'U', 'R', 'U', 'U', 'L', 'D', 'U', 'L', 'L', 'D', 'U', 'R', 'R', 'D', 'D', 'U', 'U', 'L', 'L', 'D', 'D', 'U', 'U', 'R', 'R', 'D', 'D', 'R', 'D', 'D', 'L', 'U', 'D', 'L', 'L', 'U', 'D', 'R', 'R', 'U', 'U', 'D', 'D', 'R', 'R', 'U', 'U', 'U', 'U', 'L', 'L', 'L', 'D', 'R', 'U', 'L', 'L', 'D', 'D', 'U', 'U', 'R', 'R', 'R', 'D', 'U', 'L', 'L', 'D', 'D', 'D', 'D', 'L', 'U', 'U', 'D', 'D', 'R', 'R', 'U', 'U', 'U', 'U', 'L', 'L', 'D', 'U', 'R', 'R', 'D', 'D', 'D', 'R', 'U', 'D', 'D', 'L', 'L', 'U', 'L', 'U', 'D', 'D', 'R', 'R', 'U', 'U', 'U', 'R', 'U', 'L', 'L', 'D', 'D', 'D', 'D', 'L', 'L', 'U', 'U', 'U', 'R', 'U', 'R', 'D', 'U', 'L', 'L', 'D', 'D', 'D', 'D', 'R', 'R', 'U', 'U', 'D', 'D', 'R', 'R', 'U', 'U', 'U', 'U', 'R', 'D', 'U', 'L', 'L', 'D', 'D', 'D', 'D', 'L', 'L', 'U', 'U', 'U', 'R', 'U', 'L', 'L', 'D', 'D', 'D', 'D', 'R', 'R', 'U', 'R', 'R', 'R', 'U', 'D', 'D', 'L', 'L', 'U', 'U', 'L', 'L', 'U', 'U', 'R', 'R', 'D', 'U', 'L', 'L', 'D', 'D', 'D', 'D', 'R', 'R', 'U', 'R', 'U', 'L', 'L', 'U', 'U', 'L', 'L', 'D', 'D', 'D', 'D', 'R', 'R', 'R', 'U', 'R', 'U', 'R', 'R', 'U', 'U', 'L', 'D', 'U', 'L', 'L', 'D', 'D', 'D', 'D', 'L', 'L', 'U', 'U', 'D', 'D', 'R', 'R', 'U', 'U', 'U', 'U', 'L', 'L', 'D', 'D', 'U', 'U', 'R', 'R', 'D', 'D', 'D', 'D', 'L', 'L', 'L', 'U', 'R', 'U', 'U', 'U', 'R', 'R', 'D', 'D', 'D', 'D', 'L', 'U', 'D', 'L', 'L', 'U', 'U', 'U', 'U', 'R', 'R', 'D', 'R', 'D', 'R', 'D', 'D', 'R', 'R', 'U', 'U', 'U', 'L', 'D', 'U', 'U', 'L', 'L', 'D', 'L', 'D', 'U', 'U', 'L', 'L', 'D', 'D', 'D', 'D', 'R', 'R', 'U', 'U', 'D', 'D', 'L', 'L', 'U', 'U', 'U', 'U', 'R', 'R', 'R', 'R', 'D', 'D', 'D', 'R', 'U', 'U', 'U', 'L', 'L', 'D', 'L', 'U', 'L', 'D', 'U', 'R', 'R', 'D', 'D', 'D', 'D', 'L', 'L', 'U', 'U', 'D', 'D', 'R', 'R', 'U', 'U', 'R', 'U', 'U', 'R', 'R', 'D', 'D', 'R', 'D', 'D', 'L', 'U', 'U', 'D', 'D', 'L', 'L', 'U', 'U', 'U', 'U', 'L', 'L', 'D', 'D', 'D', 'D', 'L', 'L', 'U', 'U', 'U', 'R', 'U', 'R', 'D', 'U', 'L', 'L', 'D', 'D', 'D', 'D', 'R', 'R', 'U', 'U', 'D', 'D', 'R', 'R', 'U', 'U', 'U', 'U', 'R', 'R', 'D', 'U', 'L', 'L', 'D', 'D', 'D', 'D', 'L', 'L', 'U', 'U', 'L', 'U', 'U', 'R', 'D', 'U', 'L', 'L', 'D', 'D', 'D', 'D', 'R', 'R', 'U', 'R', 'R', 'U', 'U', 'U', 'R', 'R', 'D', 'D', 'U', 'U', 'L', 'L', 'D', 'D', 'D', 'D', 'L', 'L', 'U', 'L', 'U', 'U', 'R', 'D', 'U', 'U', 'L', 'L', 'D', 'D', 'D', 'D', 'R', 'R', 'R', 'U', 'L', 'U', 'U', 'U', 'R', 'R', 'D', 'D', 'D', 'D', 'R', 'R', 'U', 'U', 'D', 'D', 'L', 'L', 'U', 'U', 'U', 'U', 'L', 'L', 'D', 'D', 'D', 'D', 'L', 'U', 'D', 'R', 'R', 'U', 'U', 'U', 'U', 'R', 'R', 'D', 'R', 'U', 'L', 'L', 'D', 'D', 'D', 'D', 'L', 'L', 'U', 'U', 'U', 'U', 'L', 'L', 'D', 'D', 'R', 'U', 'U', 'R', 'R', 'D', 'D', 'D', 'D', 'R', 'R', 'U', 'U', 'U', 'U', 'R', 'R', 'D', 'U', 'L', 'L', 'D', 'D', 'D', 'D', 'L', 'L', 'U', 'U', 'U', 'U', 'L', 'L', 'D', 'D', 'R', 'U', 'U', 'L', 'L', 'D', 'D', 'D', 'D', 'R', 'R', 'R', 'U', 'R', 'R', 'U', 'U', 'U', 'R', 'R', 'D', 'D', 'U', 'U', 'L', 'L', 'D', 'D', 'D', 'D', 'L', 'L', 'U', 'U', 'D', 'D', 'L', 'L', 'U', 'U', 'U', 'U', 'R', 'R', 'D', 'U', 'L', 'L', 'D', 'D', 'R', 'R', 'U', 'U', 'L', 'L', 'D', 'D', 'D', 'D', 'R', 'R', 'R', 'U', 'R', 'U', 'U', 'U', 'R', 'R', 'D', 'R', 'U', 'U', 'L', 'L', 'D', 'D', 'R', 'D', 'D', 'D', 'L', 'L', 'U', 'D', 'R', 'R', 'U', 'U', 'L', 'L', 'U', 'L', 'D', 'U', 'U', 'L', 'L', 'D', 'D', 'U', 'U', 'L', 'L', 'D', 'D', 'D', 'D', 'R', 'R', 'U', 'D', 'L', 'L', 'U', 'U', 'R', 'R', 'U', 'U', 'L', 'L', 'D', 'D', 'D', 'D', 'R', 'R', 'R', 'U', 'R', 'U', 'U', 'U', 'R', 'R', 'D', 'L', 'U', 'U', 'R', 'D', 'D', 'D', 'L', 'U', 'D', 'R', 'R', 'U', 'U', 'U', 'U', 'L', 'D', 'L', 'L', 'U', 'U', 'U', 'R', 'R', 'D', 'R', 'D', 'L', 'L', 'D', 'R', 'U', 'U', 'L', 'L', 'D', 'D', 'U', 'U', 'L', 'L', 'D', 'D', 'D', 'D', 'R', 'R', 'U', 'U', 'D', 'D', 'L', 'L', 'U', 'U', 'U', 'U', 'R', 'R', 'R', 'D', 'L', 'U', 'L', 'D', 'U', 'L', 'L', 'D', 'D', 'D', 'D', 'R', 'R', 'U', 'U', 'D', 'D', 'R', 'R', 'U', 'U', 'R', 'U', 'U', 'R', 'D', 'L', 'U', 'U', 'R', 'D', 'U', 'U', 'L', 'L', 'D', 'D', 'D', 'R', 'R', 'U', 'L', 'D', 'L', 'D', 'D', 'D', 'L', 'L', 'U', 'U', 'L', 'U', 'U', 'R', 'D', 'U', 'L', 'L', 'D', 'D', 'D', 'D', 'R', 'R', 'U', 'R', 'U', 'L', 'U', 'U', 'L', 'L', 'D', 'D', 'D', 'D', 'R', 'R', 'R', 'U', 'R', 'U', 'U', 'U', 'R', 'R', 'D', 'L', 'U', 'U', 'R', 'D', 'R', 'D', 'D', 'L', 'U', 'U', 'D', 'D', 'L', 'L', 'U', 'U', 'U', 'U', 'L', 'L', 'D', 'D', 'D', 'D', 'L', 'L', 'U', 'U', 'R', 'U', 'U', 'L', 'L', 'D', 'D', 'D', 'D', 'R', 'R', 'R', 'U', 'U', 'D', 'D', 'L', 'L', 'U', 'U', 'U', 'U', 'R', 'R', 'R', 'D', 'L', 'U', 'L', 'L', 'D', 'D', 'D', 'D', 'R', 'R', 'U', 'R', 'U', 'R', 'U', 'U', 'R', 'R', 'D', 'L', 'U', 'U', 'U', 'R', 'D', 'U', 'L', 'L', 'D', 'D', 'D', 'R', 'R', 'U', 'L', 'D', 'L', 'D', 'D', 'D', 'L', 'L', 'U', 'U', 'L', 'L', 'U', 'U', 'R', 'D', 'U', 'L', 'L', 'D', 'D', 'D', 'D', 'R', 'R', 'U', 'R', 'U', 'L', 'U', 'U', 'L', 'L', 'D', 'D', 'D', 'D', 'R', 'R', 'R', 'U', 'R', 'U', 'U', 'U', 'R', 'R', 'D', 'D', 'D', 'D', 'R', 'R', 'U', 'U', 'U', 'L', 'U', 'R', 'D', 'U', 'U', 'L', 'L', 'D', 'D', 'D', 'R', 'R', 'U', 'L', 'D', 'L', 'D', 'D', 'D', 'L', 'L', 'U', 'U', 'U', 'U', 'L', 'L', 'D', 'D', 'U', 'U', 'L', 'L', 'D', 'D', 'D', 'D', 'R', 'R', 'U', 'U', 'D', 'D', 'L', 'L', 'U', 'U', 'U', 'U', 'R', 'R', 'R', 'D', 'L', 'U', 'L', 'D', 'U', 'R', 'R', 'D', 'D', 'D', 'D', 'L', 'L', 'U', 'U', 'D', 'D', 'R', 'R', 'U', 'U', 'R', 'U', 'U', 'R', 'R', 'D', 'D', 'D', 'D', 'R', 'R', 'U', 'U', 'D', 'D', 'L', 'L', 'U', 'U', 'U', 'U', 'L', 'L', 'D', 'D', 'D', 'D', 'L', 'L', 'U', 'U', 'U', 'U', 'L', 'D', 'U', 'R', 'R', 'D', 'D', 'D', 'D', 'L', 'L', 'U', 'L', 'U', 'R', 'U', 'U', 'R', 'R', 'D', 'R', 'D', 'D', 'D', 'L', 'L', 'U', 'U', 'D', 'D', 'L', 'L', 'U', 'U', 'U', 'U', 'R', 'R', 'R', 'R', 'D', 'D', 'D', 'D', 'R', 'R', 'U', 'U', 'U', 'U', 'R', 'R', 'D', 'L', 'U', 'U', 'U', 'R', 'D', 'U', 'L', 'L', 'D', 'D', 'D', 'R', 'R', 'U', 'L', 'D', 'D', 'D', 'D', 'L', 'L', 'U', 'U', 'U', 'U', 'L', 'L', 'D', 'L', 'U', 'L', 'D', 'U', 'R', 'R', 'D', 'D', 'D', 'D', 'L', 'L', 'U', 'U', 'D', 'D', 'R', 'R', 'U', 'U', 'R', 'U', 'U', 'R', 'R', 'D', 'R', 'R', 'U', 'U', 'L', 'L', 'D', 'D', 'R', 'D', 'L', 'U', 'U', 'L', 'L', 'D', 'D', 'D', 'R', 'R', 'U', 'L', 'D', 'D', 'U', 'U', 'L', 'L', 'D', 'D', 'D', 'D', 'L', 'L', 'U', 'U', 'U', 'U', 'L', 'L', 'D', 'U', 'R', 'R', 'D', 'D', 'D', 'D', 'L', 'L', 'U', 'U', 'L', 'U', 'R', 'U', 'R', 'D', 'U', 'L', 'L', 'D', 'D', 'D', 'D', 'R', 'R', 'U', 'U', 'D', 'D', 'R', 'R', 'U', 'U', 'U', 'U', 'R', 'R', 'D', 'D', 'R', 'R', 'D', 'D', 'L', 'U', 'U', 'D', 'D', 'L', 'L', 'U', 'U', 'U', 'U', 'L', 'L', 'D', 'D', 'D', 'D', 'L', 'L', 'U', 'U', 'U', 'R', 'U', 'R', 'D', 'D', 'U', 'U', 'L', 'L', 'D', 'D', 'D', 'D', 'R', 'R', 'R', 'U', 'L', 'U', 'U', 'U', 'R', 'R', 'D', 'D', 'D', 'D', 'R', 'R', 'U', 'U', 'R', 'U', 'U', 'L', 'L', 'D', 'D', 'D', 'R', 'R', 'U', 'L', 'D', 'U', 'L', 'L', 'D', 'D', 'D', 'D', 'L', 'L', 'U', 'U', 'U', 'U', 'L', 'L', 'D', 'D', 'D', 'R', 'U', 'U', 'U', 'R', 'R', 'D', 'D', 'D', 'D', 'R', 'R', 'U', 'U', 'U', 'U', 'R', 'R', 'D', 'L', 'U', 'U', 'R', 'D', 'L', 'U', 'U', 'L', 'L', 'D', 'D', 'D', 'D', 'L', 'L', 'L', 'U', 'R', 'U', 'U', 'U', 'R', 'R', 'D', 'D', 'D', 'D', 'R', 'R', 'U', 'U', 'L', 'U', 'U', 'L', 'L', 'D', 'D', 'L', 'D', 'D', 'R', 'U', 'U', 'D', 'D', 'L', 'L', 'U', 'U', 'U', 'U', 'R', 'R', 'D', 'R', 'D', 'U', 'U', 'R', 'R', 'D', 'D', 'D', 'L', 'L', 'U', 'U', 'U', 'L', 'L', 'D', 'D', 'R', 'U', 'U', 'L', 'L', 'D', 'D', 'D', 'D', 'R', 'R', 'R', 'U', 'L', 'L', 'U', 'U', 'U', 'R', 'R', 'D', 'D', 'U', 'U', 'L', 'L', 'D', 'D', 'D', 'D', 'L', 'L', 'U', 'R', 'U', 'U', 'U', 'R', 'R', 'D', 'D', 'D', 'R', 'U', 'U', 'U', 'L', 'L', 'D', 'D', 'L', 'D', 'D', 'R', 'U', 'U', 'D', 'D', 'L', 'L', 'U', 'U', 'U', 'U', 'R', 'R', 'D', 'U', 'L', 'L', 'D', 'D', 'R', 'R', 'U', 'U', 'L', 'L', 'D', 'D', 'D', 'D', 'R', 'R', 'R', 'U', 'U', 'D', 'D', 'L', 'L', 'U', 'U', 'U', 'U', 'R', 'R', 'R', 'R', 'D', 'D', 'R', 'D', 'D', 'L', 'U', 'U', 'D', 'D', 'L', 'L', 'U', 'U', 'L', 'U', 'U', 'R', 'D', 'U', 'L', 'L', 'D', 'D', 'D', 'D', 'R', 'R', 'U', 'R', 'R', 'U', 'R', 'U', 'U', 'L', 'D', 'U', 'L', 'L', 'D', 'D', 'U', 'U', 'L', 'L', 'D', 'D', 'D', 'D', 'R', 'R', 'U', 'U', 'R', 'R', 'U', 'U', 'L', 'L', 'D', 'U', 'L', 'L', 'D', 'D', 'D', 'D', 'R', 'R', 'U', 'U', 'D', 'D', 'L', 'L', 'U', 'U', 'U', 'R', 'R', 'U', 'L', 'L', 'D', 'D', 'D', 'D', 'R', 'R', 'U', 'R', 'R', 'D', 'R', 'R', 'U', 'U', 'L', 'L', 'U', 'U', 'L', 'L', 'D', 'R', 'U', 'L', 'L', 'D', 'D', 'R', 'R', 'U', 'R', 'U', 'L', 'L', 'D', 'D', 'D', 'D', 'R', 'R', 'U', 'U', 'D', 'D', 'L', 'L', 'U', 'U', 'U', 'U', 'R', 'R', 'R', 'D', 'U', 'L', 'D', 'U', 'L', 'L', 'D', 'D', 'D', 'D', 'R', 'R', 'U', 'U', 'D', 'D', 'L', 'L', 'U', 'U', 'U', 'R', 'R', 'U', 'L', 'L', 'D', 'D', 'D', 'D', 'R', 'R', 'U', 'R', 'R', 'U', 'L', 'D', 'D', 'L', 'L', 'U', 'U', 'U', 'U', 'R', 'R', 'D', 'D', 'U', 'U', 'L', 'L', 'D', 'D', 'D', 'D', 'R', 'R', 'R', 'U', 'L', 'L', 'U', 'D', 'D', 'L', 'L', 'U', 'U', 'U', 'U', 'R', 'R', 'R', 'D', 'L', 'U', 'L', 'L', 'D', 'D', 'D', 'D', 'R', 'R', 'U', 'L', 'U', 'L', 'U', 'U', 'R', 'R', 'D', 'L', 'U', 'L', 'D', 'U', 'L', 'L', 'D', 'D', 'D', 'D', 'R', 'R', 'R', 'U', 'L', 'U', 'D', 'D', 'L', 'L', 'U', 'U', 'U', 'U', 'R', 'R', 'D', 'U', 'L', 'L', 'D', 'D', 'R', 'R', 'U', 'U', 'L', 'L', 'D', 'D', 'L', 'D', 'D', 'R', 'R', 'R', 'R', 'U', 'U', 'D', 'D', 'L', 'L', 'L', 'U', 'U', 'U', 'U', 'R', 'R', 'D', 'R', 'U', 'L', 'L', 'D', 'D', 'L', 'D', 'D', 'R', 'R', 'U', 'L', 'U', 'U', 'U', 'R', 'R', 'D', 'D', 'D', 'D', 'R', 'R', 'U', 'U', 'U', 'L', 'U', 'L', 'D', 'U', 'R', 'R', 'D', 'D', 'D', 'D', 'L', 'L', 'U', 'U', 'D', 'D', 'L', 'L', 'U', 'L', 'U', 'U', 'U', 'R', 'R', 'D', 'D', 'D', 'D', 'R', 'R', 'U', 'U', 'U', 'L', 'D', 'D', 'D', 'L', 'L', 'L', 'L', 'L', 'U', 'R', 'U', 'U', 'U', 'R', 'R', 'R', 'D', 'D', 'U', 'U', 'L', 'L', 'D', 'D', 'L', 'D', 'D', 'R', 'R', 'U', 'L', 'U', 'U', 'U', 'L', 'L', 'D', 'D', 'D', 'D', 'R', 'U', 'U', 'D', 'D', 'R', 'R', 'U', 'U', 'U', 'U', 'L', 'L', 'D', 'U', 'R', 'R', 'D', 'D', 'D', 'R', 'R', 'U', 'U', 'U', 'R', 'R', 'D', 'D', 'D', 'D', 'L', 'U', 'D', 'L', 'L', 'U', 'U', 'U', 'U', 'L', 'L', 'D', 'D', 'D', 'L', 'U', 'D', 'D', 'R', 'R', 'U', 'U', 'U', 'U', 'R', 'R', 'D', 'D', 'R', 'D', 'D', 'L', 'L', 'U', 'U', 'U', 'U', 'L', 'L', 'L', 'D', 'U', 'R', 'R', 'D', 'D', 'D', 'D', 'R', 'R', 'U', 'U', 'R', 'R', 'U', 'U', 'L', 'L', 'D', 'D', 'D', 'D', 'R', 'R', 'R', 'U', 'U', 'D', 'D', 'L', 'L', 'U', 'U', 'U', 'U', 'R', 'R', 'D', 'L', 'U', 'U', 'U', 'R', 'R', 'D', 'L', 'U', 'L', 'D', 'U', 'L', 'L', 'D', 'L', 'U', 'U', 'U', 'R', 'R', 'D', 'D', 'L', 'D', 'D', 'R', 'R', 'R', 'U', 'D', 'R', 'U', 'L', 'D', 'D', 'D', 'D', 'L', 'L', 'U', 'U', 'U', 'U', 'L', 'L', 'D', 'D', 'D', 'D', 'L', 'L', 'U', 'U', 'D', 'D', 'R', 'R', 'U', 'U', 'U', 'U', 'L', 'L', 'D', 'D', 'U', 'U', 'R', 'R', 'D', 'D', 'D', 'D', 'L', 'L', 'L', 'U', 'R', 'U', 'U', 'U', 'R', 'R', 'D', 'D', 'D', 'D', 'L', 'U', 'U', 'D', 'D', 'L', 'L', 'U', 'U', 'U', 'U', 'R', 'R', 'D', 'U', 'L', 'L', 'D', 'D', 'R', 'R', 'U', 'U', 'L', 'L', 'D', 'D', 'D', 'D', 'R', 'R', 'R', 'U', 'U', 'D', 'D', 'L', 'L', 'U', 'U', 'U', 'U', 'R', 'R', 'R', 'D', 'L', 'R', 'U', 'R', 'R', 'D', 'D', 'D', 'D', 'R', 'R', 'U', 'U', 'U', 'U', 'L', 'D', 'U', 'L', 'L', 'D', 'L', 'U', 'U', 'U', 'R', 'R', 'D', 'D', 'L', 'D', 'D', 'R', 'R', 'R', 'R', 'U', 'L', 'D', 'D', 'D', 'D', 'L', 'L', 'U', 'U', 'U', 'U', 'L', 'L', 'D', 'D', 'D', 'D', 'L', 'L', 'U', 'U', 'U', 'R', 'U', 'L', 'L', 'D', 'D', 'D', 'D', 'R', 'R', 'U', 'R', 'U', 'R', 'U', 'U', 'R', 'R', 'D', 'D', 'D', 'D', 'R', 'R', 'U', 'U', 'U', 'U', 'L', 'L', 'D', 'D', 'D', 'R', 'U', 'D', 'L', 'L', 'U', 'U', 'L', 'D', 'D', 'R', 'U', 'R', 'R', 'R', 'D', 'L', 'U', 'L', 'D', 'U', 'L', 'D', 'R', 'U', 'U', 'L', 'D', 'D', 'R', 'U', 'D', 'R', 'R', 'U', 'L', 'D', 'D', 'D', 'D', 'L', 'L', 'U', 'U', 'U', 'U', 'L', 'L', 'D', 'U', 'L', 'L', 'D', 'D', 'D', 'D', 'R', 'R', 'U', 'U', 'D', 'D', 'L', 'L', 'U', 'U', 'U', 'R', 'R', 'U', 'L', 'L', 'D', 'D', 'D', 'D', 'R', 'R', 'U', 'R', 'U', 'R', 'U', 'U', 'R', 'R', 'D', 'D', 'D', 'D', 'R', 'R', 'U', 'U', 'U', 'L', 'U', 'U', 'L', 'D', 'U', 'L', 'D', 'R', 'U', 'U', 'L', 'D', 'D', 'R', 'R', 'U', 'L', 'U', 'U', 'L', 'D', 'R', 'U', 'L', 'D', 'D', 'R', 'U', 'D', 'R', 'R', 'U', 'U', 'U', 'L', 'L', 'D', 'L', 'U', 'U', 'U', 'R', 'R', 'D', 'L', 'U', 'L', 'D', 'U', 'R', 'R', 'D', 'D', 'D', 'L', 'U', 'R', 'R', 'D', 'D', 'D', 'R', 'U', 'L', 'D', 'D', 'D', 'D', 'L', 'L', 'U', 'U', 'U', 'U', 'L', 'D', 'U', 'L', 'L', 'D', 'D', 'D', 'D', 'R', 'R', 'U', 'R', 'U', 'L', 'U', 'U', 'L', 'L', 'D', 'D', 'D', 'D', 'R', 'R', 'R', 'U', 'R', 'U', 'U', 'U', 'R', 'R', 'D', 'L', 'U', 'U', 'U', 'L', 'L', 'D', 'L', 'U', 'D', 'R', 'U', 'L', 'D', 'D', 'D', 'R', 'R', 'U', 'R', 'U', 'U', 'R', 'R', 'D', 'D', 'D', 'L', 'U', 'L', 'L', 'D', 'D', 'D', 'D', 'L', 'L', 'U', 'U', 'U', 'U', 'L', 'L', 'D', 'D', 'R', 'U', 'U', 'L', 'L', 'D', 'D', 'D', 'D', 'R', 'R', 'R', 'U', 'U', 'D', 'D', 'L', 'L', 'U', 'U', 'U', 'U', 'R', 'R', 'R', 'D', 'L', 'U', 'L', 'L', 'D', 'D', 'D', 'D', 'R', 'R', 'U', 'R', 'U', 'R', 'U', 'U', 'R', 'R', 'D', 'L', 'U', 'U', 'U', 'L', 'L', 'D', 'R', 'U', 'U', 'U', 'L', 'L', 'D', 'U', 'R', 'R', 'D', 'D', 'D', 'L', 'U', 'R', 'R', 'D', 'D', 'D', 'R', 'U', 'L', 'D', 'D', 'D', 'D', 'L', 'L', 'U', 'U', 'U', 'U', 'L', 'L', 'L', 'D', 'R', 'R', 'U', 'L', 'L', 'D', 'D', 'D', 'D', 'R', 'R', 'U', 'R', 'U', 'R', 'U', 'U', 'R', 'R', 'D', 'L', 'U', 'U', 'U', 'L', 'L', 'D', 'L', 'U', 'D', 'R', 'U', 'L', 'D', 'D', 'D', 'R', 'R', 'U', 'R', 'U', 'U', 'R', 'R', 'D', 'D', 'D', 'L', 'U', 'L', 'L', 'D', 'D', 'D', 'D', 'L', 'L', 'U', 'U', 'U', 'R', 'U', 'L', 'L', 'D', 'D', 'D', 'D', 'R', 'R', 'U', 'R', 'U', 'R', 'U', 'U', 'R', 'D', 'L', 'U', 'U', 'U', 'L', 'L', 'D', 'R', 'U', 'U', 'U', 'L', 'L', 'D', 'U', 'R', 'R', 'D', 'D', 'D', 'L', 'U', 'R', 'D', 'D', 'D', 'R', 'R', 'U', 'L', 'L', 'D', 'U', 'L', 'L', 'D', 'D', 'D', 'D', 'R', 'R', 'U', 'R', 'U', 'L', 'U', 'U', 'L', 'L', 'D', 'D', 'D', 'D', 'R', 'R', 'R', 'U', 'R', 'U', 'U', 'U', 'L', 'L', 'D', 'D', 'D', 'L', 'L', 'U', 'U', 'R', 'D', 'L', 'L', 'U', 'D', 'R', 'U', 'L', 'D', 'D', 'D', 'R', 'R', 'U', 'R', 'U', 'U', 'R', 'R', 'D', 'D', 'D', 'L', 'U', 'L', 'L', 'D', 'L', 'D', 'U', 'U', 'L', 'L', 'D', 'D', 'D', 'D', 'R', 'R', 'R', 'U', 'L', 'U', 'U', 'U', 'R', 'R', 'D', 'D', 'D', 'D', 'R', 'R', 'U', 'U', 'U', 'L', 'U', 'U', 'L', 'L', 'D', 'R', 'U', 'U', 'U', 'L', 'L', 'D']\n",
      "A* took 4.03 seconds on map 10 and visited 135020 states.\n",
      "46 moves were used: ['R', 'R', 'R', 'R', 'R', 'D', 'R', 'U', 'L', 'U', 'R', 'U', 'L', 'L', 'L', 'U', 'L', 'D', 'R', 'U', 'U', 'U', 'L', 'D', 'R', 'D', 'L', 'D', 'R', 'R', 'D', 'R', 'U', 'L', 'U', 'R', 'U', 'R', 'D', 'D', 'R', 'D', 'L', 'L', 'L', 'L']\n",
      "Weighted A* took 1.57 seconds on map 10 and visited 47172 states.\n",
      "67 moves were used: ['R', 'R', 'R', 'R', 'R', 'D', 'R', 'U', 'L', 'U', 'R', 'U', 'L', 'L', 'L', 'U', 'L', 'D', 'L', 'U', 'D', 'R', 'R', 'U', 'U', 'U', 'L', 'D', 'R', 'D', 'L', 'D', 'R', 'R', 'D', 'R', 'U', 'L', 'U', 'R', 'U', 'R', 'D', 'D', 'R', 'D', 'L', 'L', 'L', 'L', 'U', 'R', 'R', 'R', 'U', 'L', 'L', 'L', 'D', 'R', 'R', 'U', 'U', 'L', 'U', 'L', 'D']\n"
     ]
    }
   ],
   "source": [
    "solve(10, \"BFS\")\n",
    "solve(10, \"DFS\")\n",
    "solve(10, \"A*\")\n",
    "solve(10, \"Weighted A*\")"
   ]
  }
 ],
 "metadata": {
  "kernelspec": {
   "display_name": "Python 3",
   "language": "python",
   "name": "python3"
  },
  "language_info": {
   "codemirror_mode": {
    "name": "ipython",
    "version": 3
   },
   "file_extension": ".py",
   "mimetype": "text/x-python",
   "name": "python",
   "nbconvert_exporter": "python",
   "pygments_lexer": "ipython3",
   "version": "3.13.2"
  }
 },
 "nbformat": 4,
 "nbformat_minor": 2
}
